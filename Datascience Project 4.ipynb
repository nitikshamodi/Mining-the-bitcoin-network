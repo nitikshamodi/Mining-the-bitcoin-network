{
 "cells": [
  {
   "cell_type": "markdown",
   "metadata": {},
   "source": [
    "## Code to create directed graphs"
   ]
  },
  {
   "cell_type": "markdown",
   "metadata": {},
   "source": [
    "## with self loops, no multiedges"
   ]
  },
  {
   "cell_type": "code",
   "execution_count": 1,
   "metadata": {},
   "outputs": [],
   "source": [
    "import networkx as nx\n",
    "import numpy as np"
   ]
  },
  {
   "cell_type": "code",
   "execution_count": 2,
   "metadata": {},
   "outputs": [
    {
     "name": "stdout",
     "output_type": "stream",
     "text": [
      "2 0 2009 1\n",
      "8 3 2009 2\n",
      "8 3 2009 3\n",
      "12 4 2009 4\n",
      "19 6 2009 5\n",
      "21 7 2009 6\n",
      "24 7 2009 7\n",
      "25 7 2009 8\n",
      "25 8 2009 9\n",
      "30 14 2009 10\n",
      "35 19 2009 11\n",
      "51 25 2009 12\n",
      "67 39 2010 1\n",
      "105 65 2010 2\n",
      "145 90 2010 3\n",
      "3515 6618 2010 4\n",
      "3744 7017 2010 5\n",
      "4407 8059 2010 6\n",
      "21652 34246 2010 7\n",
      "27572 43216 2010 8\n",
      "35493 56246 2010 9\n",
      "44716 72932 2010 10\n",
      "58543 97455 2010 11\n",
      "73553 119054 2010 12\n",
      "102375 170422 2011 1\n",
      "154531 254398 2011 2\n",
      "235040 402324 2011 3\n",
      "320660 584962 2011 4\n",
      "502030 975407 2011 5\n",
      "926342 1948636 2011 6\n",
      "1408276 2911789 2011 7\n",
      "1784883 3722498 2011 8\n",
      "2054950 4448945 2011 9\n",
      "2256466 4967446 2011 10\n",
      "2443383 5457987 2011 11\n",
      "2605279 5902844 2011 12\n"
     ]
    }
   ],
   "source": [
    "path = \"D:\\\\Academics\\\\Introduction to Data Science\\\\project\\\\data\\\\\"\n",
    "\n",
    "node_arr = []\n",
    "edge_arr = []\n",
    "G_init = nx.DiGraph()\n",
    "d = {}\n",
    "for year in range(2009, 2012):\n",
    "    for month in range(1,13):\n",
    "        f1 = open(path +str(year)+\"\\\\\"+ 'outputs' + str(year) + '_' + str(month) + '.txt', 'r')\n",
    "        f = open(path +str(year)+\"\\\\\"+ 'inputs' + str(year) + '_' + str(month) + '.txt', 'r')\n",
    "        data = f1.readlines()\n",
    "        for trnx in data:\n",
    "            trnx = trnx[:-1].split(\"\\t\")\n",
    "            ind=0\n",
    "            for i in range(2, len(trnx), 2):\n",
    "                if G_init.has_edge(trnx[1], trnx[i]):\n",
    "                    G_init[trnx[1]][trnx[i]]['weight'] += float(trnx[i+1])/10**8\n",
    "                    d[(trnx[1], str(ind))] = [trnx[i], G_init[trnx[1]][trnx[i]]['weight']]\n",
    "                else:\n",
    "                    d[(trnx[1], str(ind))] = [trnx[i], float(trnx[i+1])/10**8]\n",
    "                    G_init.add_edge(trnx[1], trnx[i], weight = float(trnx[i+1])/10**8)\n",
    "                ind+=1\n",
    "        data = f.readlines()\n",
    "        for trnx in data:\n",
    "            trnx = trnx[:-1].split(\"\\t\")\n",
    "            in_addr_cost = []\n",
    "            f=0\n",
    "            for i in range(2, len(trnx), 2):\n",
    "                try:\n",
    "                    in_addr_cost.append(d[(trnx[i], trnx[i+1])])\n",
    "                except:\n",
    "                    f=1\n",
    "            neigh = list(G_init.neighbors(trnx[1]))\n",
    "            outcost = np.array([G_init[trnx[1]][v]['weight'] for v in neigh])\n",
    "            if f==1:\n",
    "                if in_addr_cost == []:\n",
    "                    in_addr_cost.append(['unknown', sum(outcost)])\n",
    "                else: \n",
    "                    s = sum(map(float, np.array(in_addr_cost)[:,1]))\n",
    "                    in_addr_cost.append(['unknown', sum(outcost)-s])\n",
    "\n",
    "            in_addr_cost = np.array(in_addr_cost).transpose()\n",
    "            s = sum(map(float, list(in_addr_cost[1])))\n",
    "            in_addr_cost[1] = np.array(list(map(float, in_addr_cost[1])))/s\n",
    "            G_init.remove_node(trnx[1])\n",
    "            for i in range(len(in_addr_cost[1])):\n",
    "                costs = float(in_addr_cost[1][0])*outcost\n",
    "                for j in range(len(neigh)):\n",
    "                    if in_addr_cost[0][i]!='noaddress' and in_addr_cost[0][i] !='unknown' and neigh[j]!='noaddress' and neigh[j]!='unknown':\n",
    "                        if G_init.has_edge(in_addr_cost[0][i], neigh[j]):\n",
    "                            G_init[in_addr_cost[0][i]][neigh[j]]['weight'] += float(costs[j])\n",
    "                        else:\n",
    "                            G_init.add_edge(in_addr_cost[0][i], neigh[j], weight = float(costs[j]))\n",
    "\n",
    "        if('noaddress' in G_init):\n",
    "            G_init.remove_node('noaddress')\n",
    "        if('unknown' in G_init):\n",
    "            G_init.remove_node('unknown')\n",
    "        print(G_init.number_of_nodes(), G_init.number_of_edges(), year, month)\n",
    "        node_arr.append(G_init.number_of_nodes())\n",
    "        edge_arr.append(G_init.number_of_edges())\n",
    "        nx.write_graphml(G_init, path + \"DG_NME\\\\\" + str(year) + \"_\" + str(month) + \".graphml\")"
   ]
  },
  {
   "cell_type": "code",
   "execution_count": null,
   "metadata": {},
   "outputs": [],
   "source": [
    "# No multi edges without self loops directed graphs\n",
    "# 2 0 2009 1\n",
    "# 8 2 2009 2\n",
    "# 8 2 2009 3\n",
    "# 12 3 2009 4\n",
    "# 19 5 2009 5\n",
    "# 21 6 2009 6\n",
    "# 24 6 2009 7\n",
    "# 25 6 2009 8\n",
    "# 25 7 2009 9\n",
    "# 30 12 2009 10\n",
    "# 35 16 2009 11\n",
    "# 51 22 2009 12\n",
    "# 67 34 2010 1\n",
    "# 105 58 2010 2\n",
    "# 145 83 2010 3\n",
    "# 3515 6605 2010 4\n",
    "# 3744 6999 2010 5\n",
    "# 4407 8031 2010 6\n",
    "# 21652 34184 2010 7\n",
    "# 27572 43130 2010 8\n",
    "# 35493 56145 2010 9\n",
    "# 44716 72816 2010 10\n",
    "# 58543 97311 2010 11\n",
    "# 73553 118873 2010 12\n",
    "# 102375 170200 2011 1\n",
    "# 154531 254104 2011 2\n",
    "# 235040 401939 2011 3\n",
    "# 320660 584466 2011 4\n",
    "# 502030 974774 2011 5\n",
    "# 926342 1947709 2011 6\n",
    "# 1408276 2910511 2011 7\n",
    "# 1784883 3720885 2011 8\n",
    "# 2054950 4447011 2011 9\n",
    "# 2256466 4965297 2011 10\n",
    "# 2443383 5455608 2011 11"
   ]
  },
  {
   "cell_type": "code",
   "execution_count": null,
   "metadata": {},
   "outputs": [],
   "source": [
    "# No multi edges with self loops directed graphs\n",
    "# 2 0 2009 1\n",
    "# 8 3 2009 2\n",
    "# 8 3 2009 3\n",
    "# 12 4 2009 4\n",
    "# 19 6 2009 5\n",
    "# 21 7 2009 6\n",
    "# 24 7 2009 7\n",
    "# 25 7 2009 8\n",
    "# 25 8 2009 9\n",
    "# 30 14 2009 10\n",
    "# 35 19 2009 11\n",
    "# 51 25 2009 12\n",
    "# 67 39 2010 1\n",
    "# 105 65 2010 2\n",
    "# 145 90 2010 3\n",
    "# 3515 6618 2010 4\n",
    "# 3744 7017 2010 5\n",
    "# 4407 8059 2010 6\n",
    "# 21652 34246 2010 7\n",
    "# 27572 43216 2010 8\n",
    "# 35493 56246 2010 9\n",
    "# 44716 72932 2010 10\n",
    "# 58543 97455 2010 11\n",
    "# 73553 119054 2010 12\n",
    "# 102375 170422 2011 1\n",
    "# 154531 254398 2011 2\n",
    "# 235040 402324 2011 3\n",
    "# 320660 584962 2011 4\n",
    "# 502030 975407 2011 5\n",
    "# 926342 1948636 2011 6\n",
    "# 1408276 2911789 2011 7\n",
    "# 1784883 3722498 2011 8\n",
    "# 2054950 4448945 2011 9\n",
    "# 2256466 4967446 2011 10\n",
    "# 2443383 5457987 2011 11\n",
    "# 2605279 5902844 2011 12"
   ]
  },
  {
   "cell_type": "code",
   "execution_count": 3,
   "metadata": {},
   "outputs": [],
   "source": [
    "x = []\n",
    "count = 1\n",
    "for year in range(2009, 2012):\n",
    "    for month in range(1,13):\n",
    "#         x.append(str(year) + \"_\" + str(month))\n",
    "        x.append(count)\n",
    "        count+=1"
   ]
  },
  {
   "cell_type": "code",
   "execution_count": 5,
   "metadata": {},
   "outputs": [
    {
     "data": {
      "text/plain": [
       "Text(0, 0.5, 'Number of nodes')"
      ]
     },
     "execution_count": 5,
     "metadata": {},
     "output_type": "execute_result"
    },
    {
     "data": {
      "image/png": "[encoded data removed]",
      "text/plain": [
       "<Figure size 432x288 with 1 Axes>"
      ]
     },
     "metadata": {
      "needs_background": "light"
     },
     "output_type": "display_data"
    }
   ],
   "source": [
    "import matplotlib.pyplot as plt\n",
    "plt.scatter(x, node_arr)\n",
    "plt.xlabel(\"Number of months passed\")\n",
    "plt.ylabel(\"Number of nodes\")"
   ]
  },
  {
   "cell_type": "code",
   "execution_count": 6,
   "metadata": {},
   "outputs": [
    {
     "data": {
      "text/plain": [
       "Text(0, 0.5, 'Number of edges')"
      ]
     },
     "execution_count": 6,
     "metadata": {},
     "output_type": "execute_result"
    },
    {
     "data": {
      "image/png": "[encoded data removed]",
      "text/plain": [
       "<Figure size 432x288 with 1 Axes>"
      ]
     },
     "metadata": {
      "needs_background": "light"
     },
     "output_type": "display_data"
    }
   ],
   "source": [
    "plt.scatter(x, edge_arr)\n",
    "plt.xlabel(\"Number of months passed\")\n",
    "plt.ylabel(\"Number of edges\")"
   ]
  },
  {
   "cell_type": "markdown",
   "metadata": {},
   "source": [
    "## without self loops and multi-edges"
   ]
  },
  {
   "cell_type": "code",
   "execution_count": null,
   "metadata": {},
   "outputs": [
    {
     "name": "stdout",
     "output_type": "stream",
     "text": [
      "2 0 2009 1\n",
      "8 5 2009 2\n",
      "8 5 2009 3\n",
      "12 6 2009 4\n",
      "19 8 2009 5\n",
      "21 9 2009 6\n",
      "24 9 2009 7\n",
      "25 9 2009 8\n",
      "25 10 2009 9\n",
      "30 19 2009 10\n",
      "35 34 2009 11\n",
      "51 47 2009 12\n",
      "67 72 2010 1\n",
      "105 106 2010 2\n",
      "145 153 2010 3\n",
      "3515 7096 2010 4\n",
      "3744 9535 2010 5\n",
      "4407 11785 2010 6\n",
      "21652 47476 2010 7\n",
      "27572 60788 2010 8\n",
      "35493 75866 2010 9\n",
      "44716 94214 2010 10\n",
      "58543 171227 2010 11\n",
      "73553 194866 2010 12\n",
      "102375 259964 2011 1\n",
      "154531 354561 2011 2\n",
      "235040 553108 2011 3\n",
      "320660 835961 2011 4\n",
      "502030 1375717 2011 5\n",
      "926342 2666297 2011 6\n",
      "1408276 3910720 2011 7\n",
      "1784883 4947599 2011 8\n",
      "2054950 5873904 2011 9\n",
      "2256466 6547657 2011 10\n",
      "2443383 7198618 2011 11\n",
      "2605279 7847463 2011 12\n"
     ]
    }
   ],
   "source": [
    "path = \"D:\\\\Academics\\\\Introduction to Data Science\\\\project\\\\data\\\\\"\n",
    "\n",
    "node_arr = []\n",
    "edge_arr = []\n",
    "G_init = nx.MultiDiGraph()\n",
    "d = {}\n",
    "for year in range(2009, 2012):\n",
    "    for month in range(1,13):\n",
    "        f1 = open(path +str(year)+\"\\\\\"+ 'outputs' + str(year) + '_' + str(month) + '.txt', 'r')\n",
    "        f = open(path +str(year)+\"\\\\\"+ 'inputs' + str(year) + '_' + str(month) + '.txt', 'r')\n",
    "        data = f1.readlines()\n",
    "        for trnx in data:\n",
    "            trnx = trnx[:-1].split(\"\\t\")\n",
    "            ind=0\n",
    "            for i in range(2, len(trnx), 2):\n",
    "                if G_init.has_edge(trnx[1], trnx[i]):\n",
    "                    G_init[trnx[1]][trnx[i]][0]['weight'] += float(trnx[i+1])/10**8\n",
    "                    d[(trnx[1], str(ind))] = [trnx[i], G_init[trnx[1]][trnx[i]][0]['weight']]\n",
    "                else:\n",
    "                    d[(trnx[1], str(ind))] = [trnx[i], float(trnx[i+1])/10**8]\n",
    "                    G_init.add_edge(trnx[1], trnx[i], weight = float(trnx[i+1])/10**8)\n",
    "                ind+=1\n",
    "        data = f.readlines()\n",
    "        for trnx in data:\n",
    "            trnx = trnx[:-1].split(\"\\t\")\n",
    "            in_addr_cost = []\n",
    "            f=0\n",
    "            for i in range(2, len(trnx), 2):\n",
    "                try:\n",
    "                    in_addr_cost.append(d[(trnx[i], trnx[i+1])])\n",
    "                except:\n",
    "                    f=1\n",
    "            neigh = list(G_init.neighbors(trnx[1]))\n",
    "            outcost = np.array([G_init[trnx[1]][v][0]['weight'] for v in neigh])\n",
    "            if f==1:\n",
    "                if in_addr_cost == []:\n",
    "                    in_addr_cost.append(['unknown', sum(outcost)])\n",
    "                else: \n",
    "                    s = sum(map(float, np.array(in_addr_cost)[:,1]))\n",
    "                    in_addr_cost.append(['unknown', sum(outcost)-s])\n",
    "\n",
    "            in_addr_cost = np.array(in_addr_cost).transpose()\n",
    "            s = sum(map(float, list(in_addr_cost[1])))\n",
    "            in_addr_cost[1] = np.array(list(map(float, in_addr_cost[1])))/s\n",
    "            G_init.remove_node(trnx[1])\n",
    "            for i in range(len(in_addr_cost[1])):\n",
    "                costs = float(in_addr_cost[1][0])*outcost\n",
    "                for j in range(len(neigh)):\n",
    "                    if in_addr_cost[0][i]!='noaddress' and in_addr_cost[0][i] !='unknown' and neigh[j]!='noaddress' and neigh[j]!='unknown':\n",
    "                        G_init.add_edge(in_addr_cost[0][i], neigh[j], weight = float(costs[j]))\n",
    "\n",
    "        if('noaddress' in G_init):\n",
    "            G_init.remove_node('noaddress')\n",
    "        if('unknown' in G_init):\n",
    "            G_init.remove_node('unknown')\n",
    "        print(G_init.number_of_nodes(), G_init.number_of_edges(), year, month)\n",
    "        node_arr.append(G_init.number_of_nodes())\n",
    "        edge_arr.append(G_init.number_of_edges())\n",
    "        nx.write_graphml(G_init, path + \"DG_ME\\\\\" + str(year) + \"_\" + str(month) + \".graphml\")"
   ]
  },
  {
   "cell_type": "code",
   "execution_count": null,
   "metadata": {},
   "outputs": [],
   "source": [
    "# 2 0 2009 1\n",
    "# 8 5 2009 2\n",
    "# 8 5 2009 3\n",
    "# 12 6 2009 4\n",
    "# 19 8 2009 5\n",
    "# 21 9 2009 6\n",
    "# 24 9 2009 7\n",
    "# 25 9 2009 8\n",
    "# 25 10 2009 9\n",
    "# 30 19 2009 10\n",
    "# 35 34 2009 11\n",
    "# 51 47 2009 12\n",
    "# 67 72 2010 1\n",
    "# 105 106 2010 2\n",
    "# 145 153 2010 3\n",
    "# 3515 7096 2010 4\n",
    "# 3744 9535 2010 5\n",
    "# 4407 11785 2010 6\n",
    "# 21652 47476 2010 7\n",
    "# 27572 60788 2010 8\n",
    "# 35493 75866 2010 9\n",
    "# 44716 94214 2010 10\n",
    "# 58543 171227 2010 11\n",
    "# 73553 194866 2010 12\n",
    "# 102375 259964 2011 1\n",
    "# 154531 354561 2011 2\n",
    "# 235040 553108 2011 3\n",
    "# 320660 835961 2011 4\n",
    "# 502030 1375717 2011 5\n",
    "# 926342 2666297 2011 6\n",
    "# 1408276 3910720 2011 7\n",
    "# 1784883 4947599 2011 8\n",
    "# 2054950 5873904 2011 9\n",
    "# 2256466 6547657 2011 10\n",
    "# 2443383 7198618 2011 11\n",
    "# 2605279 7847463 2011 12"
   ]
  },
  {
   "cell_type": "code",
   "execution_count": 26,
   "metadata": {},
   "outputs": [
    {
     "data": {
      "text/plain": [
       "AtlasView({0: {'weight': 25.0}})"
      ]
     },
     "execution_count": 26,
     "metadata": {},
     "output_type": "execute_result"
    }
   ],
   "source": [
    "# G_init['6b0f8a73a56c04b519f1883e8aafda643ba61a30bd1439969df21bea5f4e27e2']['noaddress']"
   ]
  },
  {
   "cell_type": "code",
   "execution_count": null,
   "metadata": {},
   "outputs": [],
   "source": [
    "x = []\n",
    "count = 1\n",
    "for year in range(2009, 2012):\n",
    "    for month in range(1,13):\n",
    "#         x.append(str(year) + \"_\" + str(month))\n",
    "        x.append(count)\n",
    "        count+=1"
   ]
  },
  {
   "cell_type": "code",
   "execution_count": null,
   "metadata": {},
   "outputs": [],
   "source": [
    "import matplotlib.pyplot as plt\n",
    "plt.scatter(x, node_arr)\n",
    "plt.xlabel(\"Number of months passed\")\n",
    "plt.ylabel(\"Number of nodes\")"
   ]
  },
  {
   "cell_type": "code",
   "execution_count": null,
   "metadata": {},
   "outputs": [],
   "source": [
    "plt.scatter(x, edge_arr)\n",
    "plt.xlabel(\"Number of months passed\")\n",
    "plt.ylabel(\"Number of edges\")"
   ]
  },
  {
   "cell_type": "code",
   "execution_count": null,
   "metadata": {},
   "outputs": [],
   "source": []
  }
 ],
 "metadata": {
  "kernelspec": {
   "display_name": "Python 3",
   "language": "python",
   "name": "python3"
  },
  "language_info": {
   "codemirror_mode": {
    "name": "ipython",
    "version": 3
   },
   "file_extension": ".py",
   "mimetype": "text/x-python",
   "name": "python",
   "nbconvert_exporter": "python",
   "pygments_lexer": "ipython3",
   "version": "3.7.1"
  }
 },
 "nbformat": 4,
 "nbformat_minor": 2
}
