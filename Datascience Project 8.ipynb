{
 "cells": [
  {
   "cell_type": "code",
   "execution_count": 34,
   "metadata": {
    "scrolled": false
   },
   "outputs": [],
   "source": [
    "f = open(\"users\", \"r\")"
   ]
  },
  {
   "cell_type": "code",
   "execution_count": 35,
   "metadata": {},
   "outputs": [],
   "source": [
    "data = f.readlines()"
   ]
  },
  {
   "cell_type": "code",
   "execution_count": 36,
   "metadata": {},
   "outputs": [],
   "source": [
    "data = data[0][1:-1].split(\"],\")"
   ]
  },
  {
   "cell_type": "code",
   "execution_count": 37,
   "metadata": {},
   "outputs": [],
   "source": [
    "for i in range(len(data)):\n",
    "    data[i] = data[i].split(\"[\")[1].split(\",\")"
   ]
  },
  {
   "cell_type": "code",
   "execution_count": 38,
   "metadata": {},
   "outputs": [],
   "source": [
    "for i in range(len(data)):\n",
    "    for j in range(len(data[i])):\n",
    "        ind = data[i][j].find('\"')\n",
    "        ind2 = data[i][j][::-1].find('\"')\n",
    "        data[i][j] = data[i][j][ind+1:len(data[i][j])-ind2-1]"
   ]
  },
  {
   "cell_type": "code",
   "execution_count": 39,
   "metadata": {},
   "outputs": [],
   "source": [
    "year = 2010\n",
    "month = 11"
   ]
  },
  {
   "cell_type": "code",
   "execution_count": 40,
   "metadata": {},
   "outputs": [
    {
     "data": {
      "text/plain": [
       "(58543, 96499)"
      ]
     },
     "execution_count": 40,
     "metadata": {},
     "output_type": "execute_result"
    }
   ],
   "source": [
    "import networkx as nx\n",
    "path = \"D:\\\\Academics\\\\Introduction to Data Science\\\\project\\\\data\\\\\"\n",
    "\n",
    "G = nx.read_graphml(path + \"LCC\\\\\" + str(year) + \"_\" + str(month))\n",
    "data[0] = data[0][1:]\n",
    "G.number_of_nodes(), G.number_of_edges()"
   ]
  },
  {
   "cell_type": "code",
   "execution_count": 41,
   "metadata": {},
   "outputs": [],
   "source": [
    "# len(data)"
   ]
  },
  {
   "cell_type": "code",
   "execution_count": 42,
   "metadata": {},
   "outputs": [
    {
     "data": {
      "text/plain": [
       "(58543, 96499)"
      ]
     },
     "execution_count": 42,
     "metadata": {},
     "output_type": "execute_result"
    }
   ],
   "source": [
    "G.number_of_nodes(), G.number_of_edges()"
   ]
  },
  {
   "cell_type": "code",
   "execution_count": 43,
   "metadata": {},
   "outputs": [],
   "source": [
    "f1 = open(path + \"LCC\\\\\" + str(year) + \"_\" + str(month), \"r\")\n",
    "f2 = open(\"test\", \"w\")\n",
    "f1 = str(f1.read())\n",
    "for i in data:\n",
    "    for j in i:\n",
    "        if i[0] != \"noaddress\":\n",
    "            f1 = f1.replace(j, i[0])\n",
    "        else:\n",
    "            f1 = f1.replace(j, i[1])"
   ]
  },
  {
   "cell_type": "code",
   "execution_count": 44,
   "metadata": {},
   "outputs": [
    {
     "data": {
      "text/plain": [
       "15695510"
      ]
     },
     "execution_count": 44,
     "metadata": {},
     "output_type": "execute_result"
    }
   ],
   "source": [
    "f2.write(f1)"
   ]
  },
  {
   "cell_type": "code",
   "execution_count": 45,
   "metadata": {},
   "outputs": [],
   "source": [
    "f2.close()"
   ]
  },
  {
   "cell_type": "code",
   "execution_count": 46,
   "metadata": {},
   "outputs": [],
   "source": [
    "Ga = nx.read_graphml(\"test\")"
   ]
  },
  {
   "cell_type": "code",
   "execution_count": 47,
   "metadata": {},
   "outputs": [],
   "source": [
    "import copy\n",
    "for i in Ga.nodes():\n",
    "    for j in Ga.nodes():\n",
    "        if Ga.has_edge(i, j):\n",
    "            s = 0\n",
    "            c=0\n",
    "            for item in copy.deepcopy(Ga[i][j].values()):\n",
    "                s+=item['weight']\n",
    "                Ga.remove_edge(i, j, key = c)\n",
    "                c+=1\n",
    "            Ga.add_edge(i, j, weight=s)"
   ]
  },
  {
   "cell_type": "code",
   "execution_count": 48,
   "metadata": {},
   "outputs": [
    {
     "data": {
      "text/plain": [
       "(86607, 52076)"
      ]
     },
     "execution_count": 48,
     "metadata": {},
     "output_type": "execute_result"
    }
   ],
   "source": [
    "Ga.number_of_edges(), Ga.number_of_nodes()"
   ]
  },
  {
   "cell_type": "code",
   "execution_count": 49,
   "metadata": {},
   "outputs": [],
   "source": [
    "nx.write_graphml(Ga, \"test_\"+str(year)+\"_\"+str(month))"
   ]
  },
  {
   "cell_type": "code",
   "execution_count": null,
   "metadata": {},
   "outputs": [],
   "source": []
  },
  {
   "cell_type": "code",
   "execution_count": 8,
   "metadata": {},
   "outputs": [],
   "source": [
    "# def merge_nodes(G,nodes, new_node):\n",
    "#     G.add_node(new_node) \n",
    "#     for n1,n2,data in G.edges(data=True):\n",
    "#         if n1 in nodes:\n",
    "#             G.add_edge(new_node,n2)\n",
    "#             G[new_node][n2]['weight'] = data['weight']\n",
    "#         elif n2 in nodes:\n",
    "#             G.add_edge(n1,new_node)\n",
    "#             G[new_node][n2]['weight'] = data['weight']\n",
    "#     for n in nodes: \n",
    "#         G.remove_node(n)"
   ]
  },
  {
   "cell_type": "code",
   "execution_count": 9,
   "metadata": {},
   "outputs": [],
   "source": [
    "# for i in range(len(data)):\n",
    "#     l = []\n",
    "#     for k in data[i]:\n",
    "#         if k in G.nodes():\n",
    "#             l.append(k)\n",
    "#     if len(l)>1:\n",
    "#         for j in l[1:]:\n",
    "#             try:\n",
    "#                 merge_nodes(G, [l[0], j], l[0])\n",
    "#             except:\n",
    "#                 pass\n",
    "#     if i%1000==0:\n",
    "#         print(i)\n"
   ]
  },
  {
   "cell_type": "code",
   "execution_count": 11,
   "metadata": {},
   "outputs": [],
   "source": [
    "# nx.write_graphml(G, path + \"User Graph\\\\\" + str(2010) + \"_\" + str(5))"
   ]
  },
  {
   "cell_type": "code",
   "execution_count": 12,
   "metadata": {},
   "outputs": [],
   "source": [
    "# G_ = nx.Graph()\n",
    "# G_.add_node(1) \n",
    "# G_.add_node(2)\n",
    "# G_.add_node(3)\n",
    "# G_.add_edge(1, 2)\n",
    "# G_.add_edge(1, 3)\n",
    "# G_.add_edge(2, 2) "
   ]
  },
  {
   "cell_type": "code",
   "execution_count": 14,
   "metadata": {},
   "outputs": [],
   "source": [
    "# Ga = nx.contracted_nodes(G_, 1, 2)"
   ]
  },
  {
   "cell_type": "code",
   "execution_count": 13,
   "metadata": {},
   "outputs": [],
   "source": [
    "# G_.edges(), G_.nodes()"
   ]
  },
  {
   "cell_type": "code",
   "execution_count": 15,
   "metadata": {},
   "outputs": [],
   "source": [
    "# Ga.edges(), Ga.nodes()"
   ]
  },
  {
   "cell_type": "code",
   "execution_count": 16,
   "metadata": {},
   "outputs": [],
   "source": [
    "# for i in G.edges():\n",
    "#     print(i)"
   ]
  },
  {
   "cell_type": "code",
   "execution_count": 17,
   "metadata": {},
   "outputs": [],
   "source": [
    "# for i in data:\n",
    "#     for j in i:\n",
    "#         if(len(j)!=34):\n",
    "#             print(j, len(j))"
   ]
  },
  {
   "cell_type": "code",
   "execution_count": 19,
   "metadata": {},
   "outputs": [],
   "source": [
    "# for i, item in enumerate(data):\n",
    "#     data[i] = data[i].split('\", \"')"
   ]
  },
  {
   "cell_type": "code",
   "execution_count": 18,
   "metadata": {
    "scrolled": false
   },
   "outputs": [],
   "source": [
    "# f = open(\"users\", \"r\")\n",
    "# data = f.readlines()\n",
    "# data = data[0].split(\"], [\")\n",
    "# data[0] = data[0][3:]\n",
    "# data[-1] = data[-1][:-2]"
   ]
  }
 ],
 "metadata": {
  "kernelspec": {
   "display_name": "Python 3",
   "language": "python",
   "name": "python3"
  },
  "language_info": {
   "codemirror_mode": {
    "name": "ipython",
    "version": 3
   },
   "file_extension": ".py",
   "mimetype": "text/x-python",
   "name": "python",
   "nbconvert_exporter": "python",
   "pygments_lexer": "ipython3",
   "version": "3.7.1"
  }
 },
 "nbformat": 4,
 "nbformat_minor": 2
}
