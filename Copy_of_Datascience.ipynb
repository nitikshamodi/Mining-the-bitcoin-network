{
  "nbformat": 4,
  "nbformat_minor": 0,
  "metadata": {
    "colab": {
      "name": "Copy of Datascience",
      "version": "0.3.2",
      "provenance": [],
      "include_colab_link": true
    },
    "kernelspec": {
      "name": "python2",
      "display_name": "Python 2"
    },
    "accelerator": "GPU"
  },
  "cells": [
    {
      "cell_type": "markdown",
      "metadata": {
        "id": "view-in-github",
        "colab_type": "text"
      },
      "source": [
        "<a href=\"https://colab.research.google.com/github/nitikshamodi/Mining-the-bitcoin-network/blob/master/Copy_of_Datascience.ipynb\" target=\"_parent\"><img src=\"https://colab.research.google.com/assets/colab-badge.svg\" alt=\"Open In Colab\"/></a>"
      ]
    },
    {
      "cell_type": "code",
      "metadata": {
        "id": "zShg8mjVE0uJ",
        "colab_type": "code",
        "outputId": "481d6630-41f0-4585-8cbd-4eed99376a75",
        "colab": {
          "base_uri": "https://localhost:8080/",
          "height": 34
        }
      },
      "source": [
        "!pip install python-igraph"
      ],
      "execution_count": 0,
      "outputs": [
        {
          "output_type": "stream",
          "text": [
            "Requirement already satisfied: python-igraph in /usr/local/lib/python2.7/dist-packages (0.7.1.post6)\n"
          ],
          "name": "stdout"
        }
      ]
    },
    {
      "cell_type": "code",
      "metadata": {
        "id": "ygq1HFaUE6A_",
        "colab_type": "code",
        "colab": {}
      },
      "source": [
        "import igraph as ig"
      ],
      "execution_count": 0,
      "outputs": []
    },
    {
      "cell_type": "code",
      "metadata": {
        "id": "WryWvspfIB6B",
        "colab_type": "code",
        "colab": {}
      },
      "source": [
        "G1 = ig.Graph.Read_GraphML(\"test_2010_5\") \n",
        "G2 = ig.Graph.Read_GraphML(\"test_2010_7\") \n",
        "G3 = ig.Graph.Read_GraphML(\"test_2010_9\") \n",
        "G4 = ig.Graph.Read_GraphML(\"test_2010_11\") "
      ],
      "execution_count": 0,
      "outputs": []
    },
    {
      "cell_type": "code",
      "metadata": {
        "id": "PW5VPX3VE7ub",
        "colab_type": "code",
        "colab": {}
      },
      "source": [
        "cl1 = G1.community_fastgreedy(weights = G1.es['weight']).as_clustering()\n",
        "cl2 = G2.community_fastgreedy(weights = G2.es['weight']).as_clustering()\n",
        "cl3 = G3.community_fastgreedy(weights = G3.es['weight']).as_clustering()\n",
        "cl4 = G4.community_fastgreedy(weights = G4.es['weight']).as_clustering()"
      ],
      "execution_count": 0,
      "outputs": []
    },
    {
      "cell_type": "code",
      "metadata": {
        "id": "V299PiwmIjBd",
        "colab_type": "code",
        "colab": {}
      },
      "source": [
        "import matplotlib.pyplot as plt\n",
        "\n",
        "size1 = []\n",
        "size2 = []\n",
        "size3 = []\n",
        "size4 = []\n",
        "\n",
        "clusters1 = []\n",
        "clusters2 = []\n",
        "clusters3 = []\n",
        "clusters4 = []\n",
        "\n",
        "for i in cl1:\n",
        "  if len(i)>20:\n",
        "    size1.append(len(i))\n",
        "    clusters1.append(i)   \n",
        "plt.ylabel(\"Frequency\")\n",
        "plt.xlabel(\"Size of cluster\")\n",
        "plt.hist(size1)\n",
        "plt.show()\n",
        "\n",
        "for i in cl2:\n",
        "  if len(i)>20:\n",
        "    size2.append(len(i))\n",
        "    clusters2.append(i)\n",
        "plt.ylabel(\"Frequency\")\n",
        "plt.xlabel(\"Size of cluster\")\n",
        "plt.hist(size2)\n",
        "plt.show()\n",
        "\n",
        "for i in cl3:\n",
        "  if len(i)>20:\n",
        "    size3.append(len(i))\n",
        "    clusters3.append(i)\n",
        "plt.ylabel(\"Frequency\")\n",
        "plt.xlabel(\"Size of cluster\")\n",
        "plt.hist(size3)\n",
        "plt.show()\n",
        "\n",
        "for i in cl4:\n",
        "  if len(i)>20:\n",
        "    size4.append(len(i))\n",
        "    clusters4.append(i)\n",
        "plt.ylabel(\"Frequency\")\n",
        "plt.xlabel(\"Size of cluster\")\n",
        "plt.hist(size4)\n",
        "plt.show()"
      ],
      "execution_count": 0,
      "outputs": []
    },
    {
      "cell_type": "code",
      "metadata": {
        "id": "2wzjvGnoI7BT",
        "colab_type": "code",
        "colab": {}
      },
      "source": [
        "def match(c1, c2):\n",
        "  c1 = set(c1)\n",
        "  c2 = set(c2)\n",
        "  return len(c1.intersection(c2))/float(len(c1))"
      ],
      "execution_count": 0,
      "outputs": []
    },
    {
      "cell_type": "code",
      "metadata": {
        "id": "tbfHSZowLacr",
        "colab_type": "code",
        "colab": {}
      },
      "source": [
        "def best_match(c, t):\n",
        "  m = -1\n",
        "  mcluster = []\n",
        "  for i in t:\n",
        "    v = match(c, i)\n",
        "    if v>m:\n",
        "      m = v\n",
        "      mcluster = i\n",
        "  return m, mcluster"
      ],
      "execution_count": 0,
      "outputs": []
    },
    {
      "cell_type": "code",
      "metadata": {
        "id": "9zTSRP9z3Z0G",
        "colab_type": "code",
        "colab": {}
      },
      "source": [
        "frac = 0.96"
      ],
      "execution_count": 0,
      "outputs": []
    },
    {
      "cell_type": "code",
      "metadata": {
        "id": "VFhxe2G8LcRx",
        "colab_type": "code",
        "colab": {}
      },
      "source": [
        "d = {}\n",
        "dc = {}\n",
        "ite = 0\n",
        "for c in list(clusters1):\n",
        "    if ite%40==0:\n",
        "      print(ite)\n",
        "    bmv, _ = best_match(c, clusters2)\n",
        "    try:\n",
        "      d[len(c)] += bmv\n",
        "      dc[len(c)] += 1\n",
        "    except:\n",
        "      d[len(c)] = bmv\n",
        "      dc[len(c)] = 1\n",
        "    ite+=1\n",
        "    \n",
        "size = d.keys()\n",
        "size = sorted(list(size))\n",
        "bmv_arr = []\n",
        "for i in size:\n",
        "  bmv_arr.append(float(d[i])/dc[i])\n",
        "plt.ylabel(\"Best match value\")\n",
        "plt.xlabel(\"Size of cluster\")\n",
        "plt.scatter(size, bmv_arr)"
      ],
      "execution_count": 0,
      "outputs": []
    },
    {
      "cell_type": "code",
      "metadata": {
        "id": "8OXSd-OeTO73",
        "colab_type": "code",
        "colab": {}
      },
      "source": [
        "ite = 0\n",
        "clusters2_ = []\n",
        "clusters2_all = []\n",
        "for c in list(clusters1):\n",
        "    if ite%40==0:\n",
        "      print(ite)\n",
        "    bmv, cluster = best_match(c, clusters2)\n",
        "    if bmv>frac:\n",
        "      clusters2_.append(cluster)\n",
        "    else:\n",
        "      clusters2_.append(\"-1\")\n",
        "    clusters2_all.append(cluster)\n",
        "    ite+=1"
      ],
      "execution_count": 0,
      "outputs": []
    },
    {
      "cell_type": "code",
      "metadata": {
        "id": "8Z8B8L8nZFh3",
        "colab_type": "code",
        "colab": {}
      },
      "source": [
        "d = {}\n",
        "dc = {}\n",
        "ite = 0\n",
        "for c in list(clusters2_all):\n",
        "    if ite%40==0:\n",
        "      print(ite)\n",
        "    bmv, _ = best_match(c, clusters3)\n",
        "    try:\n",
        "      d[len(c)] += bmv\n",
        "      dc[len(c)] += 1\n",
        "    except:\n",
        "      d[len(c)] = bmv\n",
        "      dc[len(c)] = 1\n",
        "    ite+=1\n",
        "    \n",
        "size = d.keys()\n",
        "size = sorted(list(size))\n",
        "bmv_arr = []\n",
        "for i in size:\n",
        "  bmv_arr.append(float(d[i])/dc[i])\n",
        "plt.ylabel(\"Best match value\")\n",
        "plt.xlabel(\"Size of cluster\")\n",
        "plt.scatter(size, bmv_arr)\n",
        "plt.show()\n",
        "\n",
        "d = {}\n",
        "dc = {}\n",
        "ite = 0\n",
        "for c in list(clusters2_):\n",
        "    if c == \"-1\":\n",
        "      continue\n",
        "    if ite%40==0:\n",
        "      print(ite)\n",
        "    bmv, _ = best_match(c, clusters3)\n",
        "    try:\n",
        "      d[len(c)] += bmv\n",
        "      dc[len(c)] += 1\n",
        "    except:\n",
        "      d[len(c)] = bmv\n",
        "      dc[len(c)] = 1\n",
        "    ite+=1\n",
        "    \n",
        "size = d.keys()\n",
        "size = sorted(list(size))\n",
        "bmv_arr = []\n",
        "for i in size:\n",
        "  bmv_arr.append(float(d[i])/dc[i])\n",
        "plt.ylabel(\"Best match value\")\n",
        "plt.xlabel(\"Size of cluster\")\n",
        "plt.scatter(size, bmv_arr)\n",
        "plt.show()"
      ],
      "execution_count": 0,
      "outputs": []
    },
    {
      "cell_type": "code",
      "metadata": {
        "id": "GSwyNfF3ZMrk",
        "colab_type": "code",
        "colab": {}
      },
      "source": [
        "ite = 0\n",
        "clusters3_ = []\n",
        "clusters3_all = []\n",
        "for c in list(clusters2_):\n",
        "    if ite%40==0:\n",
        "      print(ite)\n",
        "    bmv = 0\n",
        "    cluster = \"-1\"\n",
        "    if c!=\"-1\":\n",
        "      bmv, cluster = best_match(c, clusters3)\n",
        "    if bmv>frac:\n",
        "      clusters3_.append(cluster)\n",
        "    else:\n",
        "      clusters3_.append(\"-1\")\n",
        "    clusters3_all.append(cluster)\n",
        "    ite+=1"
      ],
      "execution_count": 0,
      "outputs": []
    },
    {
      "cell_type": "code",
      "metadata": {
        "id": "vMbsPhx5awuR",
        "colab_type": "code",
        "colab": {}
      },
      "source": [
        "d = {}\n",
        "dc = {}\n",
        "ite = 0\n",
        "for c in list(clusters3_all):\n",
        "    if c==\"-1\":\n",
        "      continue\n",
        "    if ite%40==0:\n",
        "      print(ite)\n",
        "    bmv, _ = best_match(c, clusters4)\n",
        "    try:\n",
        "      d[len(c)] += bmv\n",
        "      dc[len(c)] += 1\n",
        "    except:\n",
        "      d[len(c)] = bmv\n",
        "      dc[len(c)] = 1\n",
        "    ite+=1\n",
        "    \n",
        "size = d.keys()\n",
        "size = sorted(list(size))\n",
        "bmv_arr = []\n",
        "\n",
        "for i in size:\n",
        "  bmv_arr.append(float(d[i])/dc[i])\n",
        "plt.ylabel(\"Best match value\")\n",
        "plt.xlabel(\"Size of cluster\")\n",
        "plt.scatter(size, bmv_arr)\n",
        "plt.show()\n",
        "\n",
        "d = {}\n",
        "dc = {}\n",
        "ite = 0\n",
        "for c in list(clusters3_):\n",
        "    if c==\"-1\":\n",
        "      continue\n",
        "    if ite%40==0:\n",
        "      print(ite)\n",
        "    bmv, _ = best_match(c, clusters4)\n",
        "    try:\n",
        "      d[len(c)] += bmv\n",
        "      dc[len(c)] += 1\n",
        "    except:\n",
        "      d[len(c)] = bmv\n",
        "      dc[len(c)] = 1\n",
        "    ite+=1\n",
        "    \n",
        "size = d.keys()\n",
        "size = sorted(list(size))\n",
        "bmv_arr = []\n",
        "\n",
        "for i in size:\n",
        "  bmv_arr.append(float(d[i])/dc[i])\n",
        "plt.ylabel(\"Best match value\")\n",
        "plt.xlabel(\"Size of cluster\")\n",
        "plt.scatter(size, bmv_arr)\n",
        "plt.show()"
      ],
      "execution_count": 0,
      "outputs": []
    },
    {
      "cell_type": "code",
      "metadata": {
        "id": "CZnxjfdLM5oU",
        "colab_type": "code",
        "colab": {}
      },
      "source": [
        "ite = 0\n",
        "clusters4_ = []\n",
        "clusters4_all = []\n",
        "for c in list(clusters3_):\n",
        "    if ite%40==0:\n",
        "      print(ite)\n",
        "    bmv = 0\n",
        "    cluster = \"-1\"\n",
        "    if c!=\"-1\":\n",
        "      bmv, cluster = best_match(c, clusters3)\n",
        "    if bmv>frac:\n",
        "      clusters4_.append(cluster)\n",
        "    else:\n",
        "      clusters4_.append(\"-1\")\n",
        "    clusters4_all.append(cluster)\n",
        "    ite+=1"
      ],
      "execution_count": 0,
      "outputs": []
    },
    {
      "cell_type": "code",
      "metadata": {
        "id": "xnB2m-SnbqDC",
        "colab_type": "code",
        "colab": {}
      },
      "source": [
        "len(clusters4_)"
      ],
      "execution_count": 0,
      "outputs": []
    },
    {
      "cell_type": "code",
      "metadata": {
        "id": "06FIRPhEbszx",
        "colab_type": "code",
        "colab": {}
      },
      "source": [
        "for i in range(len(clusters4_)):\n",
        "  a =0 \n",
        "  b=0\n",
        "  c=0\n",
        "  d=0\n",
        "  if clusters1[i] == \"-1\":\n",
        "    a = \"-1\"\n",
        "  else:\n",
        "    a = 0\n",
        "  if clusters2_[i] == \"-1\":\n",
        "    b = \"-1\"\n",
        "  else:\n",
        "    b = 0\n",
        "  if clusters3_[i] == \"-1\":\n",
        "    c = \"-1\"\n",
        "  else:\n",
        "    c = 0\n",
        "  if clusters4_[i] == \"-1\":\n",
        "    d = \"-1\"\n",
        "  else:\n",
        "    d = 0\n",
        "  print(a,b,c,d)"
      ],
      "execution_count": 0,
      "outputs": []
    },
    {
      "cell_type": "code",
      "metadata": {
        "id": "ArTRROd6o41Z",
        "colab_type": "code",
        "colab": {}
      },
      "source": [
        "clusters1_id = {}\n",
        "clusters2_id = {}\n",
        "clusters3_id = {}\n",
        "clusters4_id = {}\n",
        "\n",
        "c = 0\n",
        "for i in range(len(clusters1)):\n",
        "  if clusters1[i] != \"-1\":\n",
        "    clusters1_id[tuple(sorted(clusters1[i]))] = c\n",
        "  else:\n",
        "    clusters1_id[tuple(sorted(clusters1[i]))] = \"-1\"\n",
        "    \n",
        "  if clusters2_[i] != \"-1\":\n",
        "    clusters2_id[tuple(sorted(clusters2_[i]))] = c\n",
        "  else:\n",
        "    clusters2_id[tuple(sorted(clusters2_[i]))] = \"-1\"\n",
        "    \n",
        "  if clusters3_[i] != \"-1\":\n",
        "    clusters3_id[tuple(sorted(clusters3_[i]))] = c\n",
        "  else:\n",
        "    clusters3_id[tuple(sorted(clusters3_[i]))] = \"-1\"\n",
        "    \n",
        "  if clusters4_[i] != \"-1\":\n",
        "    clusters4_id[tuple(sorted(clusters4_[i]))] = c\n",
        "  else:\n",
        "    clusters4_id[tuple(sorted(clusters4_[i]))] = \"-1\"\n",
        "  c+=1"
      ],
      "execution_count": 0,
      "outputs": []
    },
    {
      "cell_type": "code",
      "metadata": {
        "id": "vSMjkFWjuM1I",
        "colab_type": "code",
        "colab": {}
      },
      "source": [
        "for i in range(len(clusters1)):\n",
        "  print(clusters1_id[tuple(clusters1[i])], clusters2_id[tuple(clusters2_[i])], clusters3_id[tuple(clusters3_[i])], clusters4_id[tuple(clusters4_[i])])"
      ],
      "execution_count": 0,
      "outputs": []
    },
    {
      "cell_type": "code",
      "metadata": {
        "id": "xM-ugUBGwhhH",
        "colab_type": "code",
        "colab": {}
      },
      "source": [
        "for i in range(len(clusters1)):\n",
        "  if clusters1[i] != \"-1\" and clusters2_[i] != \"-1\" and clusters3_[i] != \"-1\" and clusters4_[i] != \"-1\":\n",
        "    subG = G1.induced_subgraph(clusters1[i])\n",
        "    w1 = sum(subG.es['weight'])\n",
        "    v1 = subG.vcount()\n",
        "    subG = G2.induced_subgraph(clusters2_[i])\n",
        "    w2 = sum(subG.es['weight'])\n",
        "    v2 = subG.vcount()\n",
        "    subG = G3.induced_subgraph(clusters3_[i])\n",
        "    w3 = sum(subG.es['weight'])\n",
        "    v3 = subG.vcount()\n",
        "    subG = G4.induced_subgraph(clusters4_[i])\n",
        "    w4 = sum(subG.es['weight'])\n",
        "    v4 = subG.vcount()\n",
        "    print(v1, v2, v3, v4)\n",
        "    print(w1, w2, w3, w4)\n",
        "    print()"
      ],
      "execution_count": 0,
      "outputs": []
    },
    {
      "cell_type": "code",
      "metadata": {
        "id": "-mQBCtRU53M8",
        "colab_type": "code",
        "colab": {}
      },
      "source": [
        ""
      ],
      "execution_count": 0,
      "outputs": []
    }
  ]
}