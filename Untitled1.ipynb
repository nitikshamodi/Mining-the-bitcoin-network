{
 "cells": [
  {
   "cell_type": "code",
   "execution_count": 1,
   "metadata": {},
   "outputs": [],
   "source": [
    "import networkx as nx\n",
    "from networkx.algorithms.cluster import clustering\n",
    "\n",
    "''' ### Reference\n",
    "Aric A. Hagberg, Daniel A. Schult and Pieter J. Swart, “Exploring network structure, dynamics, and function using NetworkX”, in Proceedings of the 7th Python in Science Conference (SciPy2008), Gäel Varoquaux, Travis Vaught, and Jarrod Millman (Eds), (Pasadena, CA USA), pp. 11–15, Aug 2008\n",
    "\n",
    "User Categorization and Community Detection in Bitcoin Network'''"
   ]
  },
  {
   "cell_type": "code",
   "execution_count": null,
   "metadata": {},
   "outputs": [],
   "source": []
  },
  {
   "cell_type": "code",
   "execution_count": null,
   "metadata": {},
   "outputs": [],
   "source": []
  },
  {
   "cell_type": "code",
   "execution_count": 96,
   "metadata": {},
   "outputs": [
    {
     "data": {
      "text/plain": [
       "58543"
      ]
     },
     "execution_count": 96,
     "metadata": {},
     "output_type": "execute_result"
    }
   ],
   "source": [
    "G = nx.read_graphml('2010_11.graphml')\n",
    "G.number_of_nodes()"
   ]
  },
  {
   "cell_type": "code",
   "execution_count": 3,
   "metadata": {},
   "outputs": [],
   "source": [
    "# clustering(G)"
   ]
  },
  {
   "cell_type": "code",
   "execution_count": 4,
   "metadata": {},
   "outputs": [
    {
     "name": "stdout",
     "output_type": "stream",
     "text": [
      "<type 'dict'>\n"
     ]
    }
   ],
   "source": [
    "print(type(G.in_degree()))"
   ]
  },
  {
   "cell_type": "code",
   "execution_count": 5,
   "metadata": {},
   "outputs": [
    {
     "data": {
      "text/plain": [
       "97455"
      ]
     },
     "execution_count": 5,
     "metadata": {},
     "output_type": "execute_result"
    }
   ],
   "source": [
    "G.number_of_edges()"
   ]
  },
  {
   "cell_type": "code",
   "execution_count": 23,
   "metadata": {},
   "outputs": [
    {
     "name": "stdout",
     "output_type": "stream",
     "text": [
      "('14DUg4VP6YVAnGk3pfvvxuQ4EqzLscZWja', 1)\n"
     ]
    }
   ],
   "source": [
    "k = G.in_degree()\n",
    "for i in k:\n",
    "    print(i,k[i])\n",
    "    break"
   ]
  },
  {
   "cell_type": "code",
   "execution_count": 24,
   "metadata": {},
   "outputs": [
    {
     "name": "stdout",
     "output_type": "stream",
     "text": [
      "[9, 9, 9, 9, 9, 9, 9, 9, 9, 9, 9, 9, 9, 9, 9, 9, 9, 9, 9, 9, 9, 9, 9, 9, 9, 9, 9, 9, 9, 9, 9, 9, 9, 9, 9, 9, 9, 9, 9, 9, 9, 9, 9, 9, 9, 9, 9, 9, 9, 9, 10, 10, 10, 10, 10, 10, 10, 10, 10, 10, 10, 10, 10, 10, 10, 10, 10, 10, 10, 10, 10, 10, 10, 10, 10, 10, 10, 10, 10, 10, 10, 10, 10, 10, 10, 10, 10, 10, 10, 10, 10, 10, 10, 10, 10, 10, 10, 10, 10, 11, 11, 11, 11, 11, 11, 11, 11, 11, 11, 11, 11, 11, 11, 11, 11, 11, 11, 11, 11, 11, 11, 11, 11, 11, 11, 11, 11, 11, 11, 11, 11, 11, 11, 11, 11, 11, 11, 11, 11, 11, 11, 12, 12, 12, 12, 12, 12, 12, 12, 12, 12, 12, 12, 12, 12, 12, 12, 12, 12, 12, 12, 12, 12, 12, 12, 12, 12, 12, 12, 12, 12, 12, 12, 12, 12, 12, 12, 12, 12, 12, 12, 12, 12, 12, 12, 12, 12, 12, 12, 13, 13, 13, 13, 13, 13, 13, 13, 13, 13, 13, 13, 13, 13, 13, 13, 13, 13, 13, 13, 13, 13, 13, 13, 13, 13, 13, 13, 13, 14, 14, 14, 14, 14, 14, 14, 14, 14, 14, 14, 14, 14, 14, 14, 14, 14, 14, 14, 14, 14, 14, 14, 15, 15, 15, 15, 15, 15, 15, 15, 15, 15, 15, 15, 15, 15, 15, 15, 15, 15, 15, 15, 15, 15, 15, 15, 15, 16, 16, 16, 16, 16, 16, 16, 16, 16, 16, 16, 16, 16, 16, 16, 16, 16, 16, 16, 16, 16, 17, 17, 17, 17, 17, 17, 17, 17, 17, 17, 17, 17, 17, 18, 18, 18, 18, 18, 18, 18, 18, 18, 18, 18, 18, 18, 18, 18, 18, 18, 19, 19, 19, 19, 19, 19, 19, 19, 19, 19, 19, 20, 20, 20, 20, 20, 20, 20, 20, 20, 20, 20, 20, 20, 20, 20, 20, 20, 20, 21, 21, 21, 21, 21, 21, 21, 21, 21, 22, 22, 22, 22, 22, 22, 22, 22, 22, 22, 22, 22, 22, 22, 22, 23, 23, 23, 23, 23, 23, 24, 24, 24, 24, 24, 24, 25, 25, 25, 25, 25, 25, 26, 26, 26, 26, 26, 26, 27, 27, 27, 27, 27, 27, 27, 28, 28, 28, 28, 28, 28, 29, 29, 29, 29, 29, 29, 30, 30, 30, 31, 31, 31, 31, 31, 31, 32, 32, 32, 32, 32, 33, 33, 33, 34, 34, 34, 34, 34, 34, 35, 35, 36, 36, 36, 37, 37, 37, 38, 38, 38, 38, 38, 39, 39, 39, 39, 39, 40, 40, 40, 41, 41, 41, 41, 42, 43, 44, 45, 46, 47, 47, 49, 49, 49, 50, 50, 51, 52, 53, 53, 54, 57, 57, 58, 59, 60, 61, 62, 63, 63, 64, 66, 70, 70, 70, 71, 72, 72, 77, 77, 80, 81, 82, 83, 96, 97, 99, 101, 104, 105, 107, 108, 108, 114, 116, 118, 129, 134, 139, 153, 164, 195, 206, 231, 267, 306, 309, 335, 342, 342, 348, 358, 361, 367, 373, 380, 391, 506, 592, 645, 877, 961, 1424, 1511, 3056, 3660]\n"
     ]
    }
   ],
   "source": [
    "print(sorted(k.values())[58000:58543])"
   ]
  },
  {
   "cell_type": "code",
   "execution_count": 130,
   "metadata": {},
   "outputs": [
    {
     "name": "stdout",
     "output_type": "stream",
     "text": [
      "('14DUg4VP6YVAnGk3pfvvxuQ4EqzLscZWja', 2)\n",
      "[5, 5, 5, 5, 5, 5, 5, 5, 5, 5, 5, 5, 5, 5, 5, 5, 5, 5, 5, 5, 5, 5, 5, 5, 5, 5, 5, 5, 5, 5, 5, 5, 5, 5, 5, 5, 5, 5, 5, 5, 5, 5, 5, 5, 5, 5, 5, 5, 5, 5, 5, 5, 5, 5, 5, 5, 5, 5, 5, 5, 5, 5, 5, 5, 5, 5, 5, 5, 5, 5, 5, 5, 5, 5, 5, 5, 5, 5, 5, 5, 5, 5, 5, 5, 5, 5, 5, 5, 5, 5, 5, 5, 5, 5, 5, 5, 5, 5, 5, 5, 5, 5, 5, 5, 5, 5, 5, 5, 5, 5, 5, 5, 5, 5, 5, 5, 5, 5, 5, 5, 5, 5, 5, 5, 5, 5, 5, 5, 5, 5, 5, 5, 5, 5, 5, 5, 5, 6, 6, 6, 6, 6, 6, 6, 6, 6, 6, 6, 6, 6, 6, 6, 6, 6, 6, 6, 6, 6, 6, 6, 6, 6, 6, 6, 6, 6, 6, 6, 6, 6, 6, 6, 6, 6, 6, 6, 6, 6, 6, 6, 6, 6, 6, 6, 6, 6, 6, 6, 6, 6, 6, 6, 6, 6, 6, 6, 6, 6, 6, 6, 6, 6, 6, 6, 6, 6, 6, 6, 6, 6, 6, 6, 6, 6, 6, 6, 6, 6, 6, 6, 6, 6, 6, 6, 7, 7, 7, 7, 7, 7, 7, 7, 7, 7, 7, 7, 7, 7, 7, 7, 7, 7, 7, 7, 7, 7, 7, 7, 7, 7, 7, 7, 7, 7, 7, 7, 7, 7, 7, 7, 7, 7, 7, 7, 7, 7, 7, 7, 7, 7, 7, 7, 7, 7, 7, 7, 7, 7, 7, 8, 8, 8, 8, 8, 8, 8, 8, 8, 8, 8, 8, 8, 8, 8, 8, 8, 8, 8, 8, 8, 8, 8, 8, 8, 8, 8, 8, 8, 8, 8, 8, 8, 8, 8, 8, 8, 8, 8, 9, 9, 9, 9, 9, 9, 9, 9, 9, 9, 9, 9, 9, 9, 9, 9, 9, 9, 9, 9, 9, 9, 9, 9, 9, 9, 9, 9, 9, 9, 9, 9, 9, 10, 10, 10, 10, 10, 10, 10, 10, 10, 10, 10, 10, 10, 10, 10, 10, 10, 10, 10, 10, 10, 11, 11, 11, 11, 11, 11, 11, 11, 11, 11, 11, 11, 11, 11, 11, 11, 11, 11, 12, 12, 12, 12, 12, 12, 12, 12, 12, 12, 12, 12, 12, 12, 12, 12, 12, 12, 12, 12, 12, 12, 13, 13, 13, 13, 13, 13, 13, 13, 13, 13, 13, 13, 13, 13, 13, 13, 13, 14, 14, 14, 14, 14, 14, 14, 14, 14, 14, 14, 14, 14, 14, 14, 14, 14, 14, 14, 15, 15, 15, 15, 15, 15, 15, 15, 16, 16, 16, 16, 16, 16, 16, 16, 17, 17, 17, 17, 17, 17, 17, 17, 18, 18, 18, 18, 19, 19, 19, 19, 20, 20, 20, 20, 20, 21, 21, 21, 21, 21, 22, 22, 23, 23, 23, 23, 23, 24, 25, 25, 26, 26, 26, 26, 27, 28, 28, 28, 29, 29, 30, 30, 31, 31, 31, 33, 34, 35, 36, 36, 37, 40, 40, 40, 42, 42, 42, 45, 46, 47, 48, 49, 50, 51, 55, 55, 60, 68, 70, 84, 96, 137, 508]\n"
     ]
    }
   ],
   "source": [
    "out = G.out_degree()\n",
    "for i in out:\n",
    "    print(i,out[i])\n",
    "    break\n",
    "print(sorted(out.values())[58000:58543])"
   ]
  },
  {
   "cell_type": "code",
   "execution_count": 143,
   "metadata": {},
   "outputs": [
    {
     "data": {
      "image/png": "[encoded data removed]",
      "text/plain": [
       "<Figure size 432x288 with 1 Axes>"
      ]
     },
     "metadata": {},
     "output_type": "display_data"
    }
   ],
   "source": [
    "import matplotlib.pyplot as plt\n",
    "plt.plot(sorted(k.values())[58000:58535])\n",
    "plt.show()"
   ]
  },
  {
   "cell_type": "code",
   "execution_count": 27,
   "metadata": {},
   "outputs": [
    {
     "data": {
      "image/png": "[encoded data removed]",
      "text/plain": [
       "<Figure size 432x288 with 1 Axes>"
      ]
     },
     "metadata": {},
     "output_type": "display_data"
    }
   ],
   "source": [
    "out = G.out_degree()\n",
    "import matplotlib.pyplot as plt\n",
    "plt.plot(sorted(out.values())[58000:58539])\n",
    "plt.show()"
   ]
  },
  {
   "cell_type": "code",
   "execution_count": 28,
   "metadata": {},
   "outputs": [],
   "source": [
    "degree={}\n",
    "for i in out.keys():\n",
    "    degree[i]=(out[i],k[i])"
   ]
  },
  {
   "cell_type": "code",
   "execution_count": 29,
   "metadata": {},
   "outputs": [],
   "source": [
    "out_keys = {}\n",
    "\n",
    "for i in out.keys():\n",
    "    if(out[i]>2):\n",
    "        out_keys[i]=i"
   ]
  },
  {
   "cell_type": "code",
   "execution_count": 30,
   "metadata": {},
   "outputs": [
    {
     "name": "stdout",
     "output_type": "stream",
     "text": [
      "1584\n"
     ]
    }
   ],
   "source": [
    "print(len(out_keys.values()))"
   ]
  },
  {
   "cell_type": "code",
   "execution_count": 31,
   "metadata": {},
   "outputs": [],
   "source": [
    "in_keys = {}\n",
    "\n",
    "for i in k.keys():\n",
    "    if(k[i]>5):\n",
    "        in_keys[i]=i"
   ]
  },
  {
   "cell_type": "code",
   "execution_count": 32,
   "metadata": {},
   "outputs": [
    {
     "name": "stdout",
     "output_type": "stream",
     "text": [
      "994\n"
     ]
    }
   ],
   "source": [
    "print(len(in_keys.values()))"
   ]
  },
  {
   "cell_type": "code",
   "execution_count": 33,
   "metadata": {},
   "outputs": [],
   "source": [
    "high_in_high_out_keys = {}\n",
    "\n",
    "for i in out.keys():\n",
    "    if(out[i]>10 and k[i]>10):\n",
    "        high_in_high_out_keys[i]=i\n",
    "        \n",
    "        "
   ]
  },
  {
   "cell_type": "code",
   "execution_count": 34,
   "metadata": {},
   "outputs": [
    {
     "name": "stdout",
     "output_type": "stream",
     "text": [
      "125\n"
     ]
    }
   ],
   "source": [
    "print(len(high_in_high_out_keys.values()))"
   ]
  },
  {
   "cell_type": "code",
   "execution_count": 35,
   "metadata": {},
   "outputs": [
    {
     "name": "stdout",
     "output_type": "stream",
     "text": [
      "7\n"
     ]
    }
   ],
   "source": [
    "low_in_high_out_keys = {}\n",
    "\n",
    "for i in out.keys():\n",
    "    if(out[i]>20 and k[i]<5):\n",
    "        low_in_high_out_keys[i]=i\n",
    "        \n",
    "print(len(low_in_high_out_keys.values()))"
   ]
  },
  {
   "cell_type": "code",
   "execution_count": null,
   "metadata": {},
   "outputs": [],
   "source": []
  },
  {
   "cell_type": "code",
   "execution_count": 36,
   "metadata": {},
   "outputs": [
    {
     "name": "stdout",
     "output_type": "stream",
     "text": [
      "99\n"
     ]
    }
   ],
   "source": [
    "high_in_low_out_keys = {}\n",
    "\n",
    "for i in out.keys():\n",
    "    if(out[i]<5 and k[i]>20):\n",
    "        high_in_low_out_keys[i]=i\n",
    "        \n",
    "print(len(high_in_low_out_keys.values()))"
   ]
  },
  {
   "cell_type": "code",
   "execution_count": 37,
   "metadata": {},
   "outputs": [
    {
     "name": "stdout",
     "output_type": "stream",
     "text": [
      "57077\n"
     ]
    }
   ],
   "source": [
    "low_in_low_out_keys = {}\n",
    "\n",
    "for i in out.keys():\n",
    "    if(out[i]<5 and k[i]<5):\n",
    "        low_in_low_out_keys[i]=i\n",
    "        \n",
    "print(len(low_in_low_out_keys.values()))"
   ]
  },
  {
   "cell_type": "code",
   "execution_count": 38,
   "metadata": {},
   "outputs": [
    {
     "name": "stdout",
     "output_type": "stream",
     "text": [
      "4\n",
      "36\n",
      "36\n"
     ]
    }
   ],
   "source": [
    "for i in low_in_high_out_keys.keys():\n",
    "#     print(i)\n",
    "    print(G.in_degree(i))\n",
    "    print(G.out_degree(i))\n",
    "    print(len(G.edges(i)))\n",
    "    break"
   ]
  },
  {
   "cell_type": "code",
   "execution_count": 42,
   "metadata": {},
   "outputs": [],
   "source": [
    "# in_sum={}\n",
    "# out_sum={}\n",
    "\n",
    "# for u,v in G.edges():\n",
    "#     weight = G.get_edge_data(u,v,0)\n",
    "# #     print(u,v)\n",
    "\n",
    "#     if(u in out_sum.keys()):\n",
    "#         out_sum[u].append(weight['weight'])\n",
    "#     else:\n",
    "#         out_sum[u] = [weight['weight']]\n",
    "        \n",
    "#     if(v in in_sum.keys()):\n",
    "#         in_sum[v].append(weight['weight'])\n",
    "#     else:\n",
    "#         in_sum[v] = [weight['weight']]\n",
    "# #         print(out_sum)\n",
    "# #     print(weight['weight'])\n",
    "# #     break"
   ]
  },
  {
   "cell_type": "code",
   "execution_count": 43,
   "metadata": {},
   "outputs": [
    {
     "name": "stdout",
     "output_type": "stream",
     "text": [
      "56135\n"
     ]
    }
   ],
   "source": [
    "print(len(in_sum.keys()))"
   ]
  },
  {
   "cell_type": "code",
   "execution_count": 59,
   "metadata": {},
   "outputs": [],
   "source": [
    "import numpy as np\n",
    "for i in in_sum:\n",
    "    in_sum[i] = np.sum(in_sum[i])"
   ]
  },
  {
   "cell_type": "code",
   "execution_count": 60,
   "metadata": {},
   "outputs": [],
   "source": [
    "for i in out_sum:\n",
    "    out_sum[i] = np.sum(out_sum[i])"
   ]
  },
  {
   "cell_type": "code",
   "execution_count": 66,
   "metadata": {},
   "outputs": [
    {
     "data": {
      "image/png": "[encoded data removed]",
      "text/plain": [
       "<Figure size 432x288 with 1 Axes>"
      ]
     },
     "metadata": {},
     "output_type": "display_data"
    }
   ],
   "source": [
    "plt.plot(sorted(out_sum.values(),reverse=True)[:500])\n",
    "plt.show()"
   ]
  },
  {
   "cell_type": "code",
   "execution_count": 67,
   "metadata": {},
   "outputs": [
    {
     "data": {
      "image/png": "[encoded data removed]",
      "text/plain": [
       "<Figure size 432x288 with 1 Axes>"
      ]
     },
     "metadata": {},
     "output_type": "display_data"
    }
   ],
   "source": [
    "plt.plot(sorted(in_sum.values(),reverse=True)[:500])\n",
    "plt.show()"
   ]
  },
  {
   "cell_type": "code",
   "execution_count": 111,
   "metadata": {},
   "outputs": [],
   "source": [
    "high_inTx_high_outTx_keys = {}\n",
    "\n",
    "for i in in_sum.keys():\n",
    "    try:\n",
    "        if(in_sum[i]>5000 and out_sum[i]>5000):\n",
    "            high_inTx_high_outTx_keys[i]=i\n",
    "    except:\n",
    "        pass\n",
    "        \n",
    "high_inTx_low_outTx_keys = {}\n",
    "\n",
    "for i in in_sum.keys():\n",
    "    try:\n",
    "        if(in_sum[i]>5000 and out_sum[i]<1000):\n",
    "            high_inTx_low_outTx_keys[i]=i\n",
    "    except:\n",
    "        pass\n",
    "        \n",
    "low_inTx_high_outTx_keys = {}\n",
    "\n",
    "for i in in_sum.keys():\n",
    "    try:\n",
    "        if(in_sum[i]<1000 and out_sum[i]>5000):\n",
    "            low_inTx_high_outTx_keys[i]=i\n",
    "    except:\n",
    "        pass\n",
    "        "
   ]
  },
  {
   "cell_type": "code",
   "execution_count": 112,
   "metadata": {},
   "outputs": [
    {
     "name": "stdout",
     "output_type": "stream",
     "text": [
      "192\n",
      "58\n",
      "18\n"
     ]
    }
   ],
   "source": [
    "print(len(high_inTx_high_outTx_keys.values()))\n",
    "print(len(low_inTx_high_outTx_keys.values()))\n",
    "print(len(high_inTx_low_outTx_keys.values()))"
   ]
  },
  {
   "cell_type": "code",
   "execution_count": 113,
   "metadata": {},
   "outputs": [],
   "source": [
    "tradingCenter = []\n",
    "for i in high_in_high_out_keys.keys():\n",
    "    if i in high_inTx_high_outTx_keys.keys():\n",
    "        tradingCenter.append(i)\n"
   ]
  },
  {
   "cell_type": "code",
   "execution_count": 114,
   "metadata": {},
   "outputs": [
    {
     "name": "stdout",
     "output_type": "stream",
     "text": [
      "25\n"
     ]
    }
   ],
   "source": [
    "print(len(tradingCenter))"
   ]
  },
  {
   "cell_type": "code",
   "execution_count": 115,
   "metadata": {},
   "outputs": [
    {
     "name": "stdout",
     "output_type": "stream",
     "text": [
      "36\n"
     ]
    }
   ],
   "source": [
    "Miner = []\n",
    "for i in out.keys():\n",
    "    if i in low_inTx_high_outTx_keys.keys() and out[i]<5:\n",
    "        Miner.append(i)\n",
    "print(len(Miner))"
   ]
  },
  {
   "cell_type": "code",
   "execution_count": 116,
   "metadata": {},
   "outputs": [
    {
     "name": "stdout",
     "output_type": "stream",
     "text": [
      "102\n"
     ]
    }
   ],
   "source": [
    "investors = []\n",
    "for i in low_in_low_out_keys.keys():\n",
    "    if i in high_inTx_high_outTx_keys.keys():\n",
    "        investors.append(i)\n",
    "print(len(investors))"
   ]
  },
  {
   "cell_type": "code",
   "execution_count": 117,
   "metadata": {},
   "outputs": [
    {
     "name": "stdout",
     "output_type": "stream",
     "text": [
      "18\n"
     ]
    }
   ],
   "source": [
    "accumulators = []\n",
    "for i in high_inTx_low_outTx_keys.keys():\n",
    "#     if i in high_inTx_low_outTx_keys.keys():\n",
    "    accumulators.append(i)\n",
    "\n",
    "print(len(accumulators))"
   ]
  },
  {
   "cell_type": "code",
   "execution_count": null,
   "metadata": {},
   "outputs": [],
   "source": []
  },
  {
   "cell_type": "code",
   "execution_count": null,
   "metadata": {},
   "outputs": [],
   "source": []
  },
  {
   "cell_type": "code",
   "execution_count": null,
   "metadata": {},
   "outputs": [],
   "source": []
  },
  {
   "cell_type": "code",
   "execution_count": 118,
   "metadata": {},
   "outputs": [],
   "source": [
    "largest = max(nx.strongly_connected_components(G), key=len)\n",
    "tempGraph = nx.read_graphml('2010_11.graphml')"
   ]
  },
  {
   "cell_type": "code",
   "execution_count": 119,
   "metadata": {},
   "outputs": [
    {
     "data": {
      "text/plain": [
       "39440"
      ]
     },
     "execution_count": 119,
     "metadata": {},
     "output_type": "execute_result"
    }
   ],
   "source": [
    "len(largest)"
   ]
  },
  {
   "cell_type": "code",
   "execution_count": 120,
   "metadata": {},
   "outputs": [
    {
     "data": {
      "text/plain": [
       "12102"
      ]
     },
     "execution_count": 120,
     "metadata": {},
     "output_type": "execute_result"
    }
   ],
   "source": [
    "for i in tradingCenter:\n",
    "    tempGraph.remove_node(i)\n",
    "    \n",
    "largest = max(nx.strongly_connected_components(tempGraph), key=len)\n",
    "len(largest)"
   ]
  },
  {
   "cell_type": "code",
   "execution_count": null,
   "metadata": {},
   "outputs": [],
   "source": []
  },
  {
   "cell_type": "code",
   "execution_count": 121,
   "metadata": {},
   "outputs": [
    {
     "data": {
      "text/plain": [
       "57229"
      ]
     },
     "execution_count": 121,
     "metadata": {},
     "output_type": "execute_result"
    }
   ],
   "source": [
    "smallest = max(nx.weakly_connected_components(G), key=len)\n",
    "len(smallest)"
   ]
  },
  {
   "cell_type": "code",
   "execution_count": 123,
   "metadata": {},
   "outputs": [
    {
     "data": {
      "text/plain": [
       "55777"
      ]
     },
     "execution_count": 123,
     "metadata": {},
     "output_type": "execute_result"
    }
   ],
   "source": [
    "tempGraph = nx.read_graphml('2010_11.graphml')\n",
    "for i in tradingCenter:\n",
    "    tempGraph.remove_node(i)\n",
    "smallest = max(nx.weakly_connected_components(tempGraph), key=len)\n",
    "len(smallest)"
   ]
  },
  {
   "cell_type": "code",
   "execution_count": 138,
   "metadata": {},
   "outputs": [
    {
     "name": "stdout",
     "output_type": "stream",
     "text": [
      "15VjRaDX9zpbA8LVnbrCAFzrVzN7ixHNsC\n"
     ]
    }
   ],
   "source": [
    "print(tradingCenter[24])"
   ]
  },
  {
   "cell_type": "code",
   "execution_count": 133,
   "metadata": {},
   "outputs": [
    {
     "name": "stdout",
     "output_type": "stream",
     "text": [
      "5811\n"
     ]
    }
   ],
   "source": [
    "sum = 0\n",
    "for i in tradingCenter:\n",
    "    sum+=out[i]\n",
    "    sum+=k[i]\n",
    "print(sum)"
   ]
  },
  {
   "cell_type": "code",
   "execution_count": 139,
   "metadata": {},
   "outputs": [
    {
     "name": "stdout",
     "output_type": "stream",
     "text": [
      "<type 'dict'>\n"
     ]
    }
   ],
   "source": [
    "print(type(out))"
   ]
  },
  {
   "cell_type": "code",
   "execution_count": null,
   "metadata": {},
   "outputs": [],
   "source": []
  },
  {
   "cell_type": "code",
   "execution_count": null,
   "metadata": {},
   "outputs": [],
   "source": []
  },
  {
   "cell_type": "code",
   "execution_count": null,
   "metadata": {},
   "outputs": [],
   "source": []
  },
  {
   "cell_type": "code",
   "execution_count": 147,
   "metadata": {},
   "outputs": [],
   "source": [
    "inv_in = 0\n",
    "inv_out = 0\n",
    "miner_in = 0\n",
    "miner_out = 0\n",
    "invToTrading = 0\n",
    "minerToTrading = 0\n",
    "tradingToInv = 0\n",
    "tradingToMiner = 0\n",
    "\n",
    "for u,v in G.edges():\n",
    "#     weight = G.get_edge_data(u,v,0)\n",
    "#     print(u,v)\n",
    "\n",
    "    if(u in Miner):\n",
    "        miner_out+=1\n",
    "        if(v in tradingCenter):\n",
    "            minerToTrading+=1\n",
    "    if(v in Miner):\n",
    "        miner_in+=1\n",
    "        if(v in tradingCenter):\n",
    "            minerToTrading+=1\n",
    "    if(u in investors):\n",
    "        inv_out+=1\n",
    "        if(v in tradingCenter):\n",
    "            invToTrading+=1\n",
    "    if(v in investors):\n",
    "        inv_in+=1\n",
    "    "
   ]
  },
  {
   "cell_type": "code",
   "execution_count": 148,
   "metadata": {},
   "outputs": [
    {
     "name": "stdout",
     "output_type": "stream",
     "text": [
      "(20, 195, 10, 72)\n"
     ]
    }
   ],
   "source": [
    "print(invToTrading,inv_out,minerToTrading,miner_out)"
   ]
  },
  {
   "cell_type": "code",
   "execution_count": 154,
   "metadata": {},
   "outputs": [
    {
     "name": "stdout",
     "output_type": "stream",
     "text": [
      "(20, 154)\n"
     ]
    }
   ],
   "source": [
    "print(invToTrading,inv_in)"
   ]
  },
  {
   "cell_type": "code",
   "execution_count": 152,
   "metadata": {},
   "outputs": [
    {
     "data": {
      "text/plain": [
       "0.10256410256410256"
      ]
     },
     "execution_count": 152,
     "metadata": {},
     "output_type": "execute_result"
    }
   ],
   "source": [
    "invToTrading*1.0/inv_out"
   ]
  },
  {
   "cell_type": "code",
   "execution_count": 155,
   "metadata": {},
   "outputs": [
    {
     "data": {
      "text/plain": [
       "0.10256410256410256"
      ]
     },
     "execution_count": 155,
     "metadata": {},
     "output_type": "execute_result"
    }
   ],
   "source": [
    "invToTrading*1.0/inv_out"
   ]
  },
  {
   "cell_type": "code",
   "execution_count": null,
   "metadata": {},
   "outputs": [],
   "source": []
  },
  {
   "cell_type": "code",
   "execution_count": null,
   "metadata": {},
   "outputs": [],
   "source": []
  },
  {
   "cell_type": "code",
   "execution_count": 156,
   "metadata": {},
   "outputs": [],
   "source": [
    "largest = max(nx.strongly_connected_components(G), key=len)"
   ]
  },
  {
   "cell_type": "code",
   "execution_count": 184,
   "metadata": {},
   "outputs": [],
   "source": [
    "inv_in = 0\n",
    "inv_out = 0\n",
    "miner_in = 0\n",
    "miner_out = 0\n",
    "invToTrading = 0\n",
    "minerToTrading = 0\n",
    "tradingToInv = 0\n",
    "tradingToMiner = 0\n",
    "invToMiner = 0\n",
    "MinerToInv = 0\n",
    "invToCustomer = 0\n",
    "customerToInv = 0\n",
    "customer_out =0\n",
    "for u,v in G.edges():\n",
    "#     weight = G.get_edge_data(u,v,0)\n",
    "#     print(u,v)\n",
    "    if(u in Miner and u in largest and v in largest):\n",
    "        miner_out+=1\n",
    "        if(v in tradingCenter):\n",
    "            minerToTrading+=1\n",
    "        if(v in investors):\n",
    "            MinerToInv +=1\n",
    "    if(v in Miner and v in largest and u in  largest):\n",
    "        miner_in+=1\n",
    "        if(u in tradingCenter):\n",
    "            tradingToMiner+=1\n",
    "        if(u in investors):\n",
    "            invToMiner +=1\n",
    "    if(u in investors and u in largest and v in largest):\n",
    "        inv_out+=1\n",
    "        if(v in tradingCenter ):\n",
    "            invToTrading+=1\n",
    "        if(v in low_in_low_out_keys.keys()):\n",
    "            invToCustomer+=1\n",
    "    if(v in investors and v in largest and u in largest):\n",
    "        inv_in+=1\n",
    "        if(u in tradingCenter):\n",
    "            tradingToInv+=1\n",
    "            \n",
    "    if(u in low_in_low_out_keys.keys() and u in largest and v in largest):\n",
    "        customer_out+=1\n",
    "        if(v in investors):\n",
    "            customerToInv+=1"
   ]
  },
  {
   "cell_type": "code",
   "execution_count": 179,
   "metadata": {},
   "outputs": [
    {
     "name": "stdout",
     "output_type": "stream",
     "text": [
      "(19, 149, 7, 47)\n"
     ]
    }
   ],
   "source": [
    "print(invToTrading,inv_out,minerToTrading,miner_out)"
   ]
  },
  {
   "cell_type": "code",
   "execution_count": 180,
   "metadata": {},
   "outputs": [
    {
     "name": "stdout",
     "output_type": "stream",
     "text": [
      "(11, 122, 5, 79)\n"
     ]
    }
   ],
   "source": [
    "print(tradingToInv,inv_in,tradingToMiner,miner_in)"
   ]
  },
  {
   "cell_type": "code",
   "execution_count": 182,
   "metadata": {},
   "outputs": [
    {
     "name": "stdout",
     "output_type": "stream",
     "text": [
      "(1, 149, 79)\n"
     ]
    }
   ],
   "source": [
    "print(invToMiner,inv_out,miner_in)"
   ]
  },
  {
   "cell_type": "code",
   "execution_count": 183,
   "metadata": {},
   "outputs": [
    {
     "name": "stdout",
     "output_type": "stream",
     "text": [
      "(7, 47, 122)\n"
     ]
    }
   ],
   "source": [
    "print(MinerToInv,miner_out,inv_in)"
   ]
  },
  {
   "cell_type": "code",
   "execution_count": 185,
   "metadata": {},
   "outputs": [
    {
     "name": "stdout",
     "output_type": "stream",
     "text": [
      "(73, 62824)\n"
     ]
    }
   ],
   "source": [
    "print(customerToInv,customer_out)"
   ]
  },
  {
   "cell_type": "code",
   "execution_count": null,
   "metadata": {},
   "outputs": [],
   "source": []
  }
 ],
 "metadata": {
  "kernelspec": {
   "display_name": "Python 3",
   "language": "python",
   "name": "python3"
  },
  "language_info": {
   "codemirror_mode": {
    "name": "ipython",
    "version": 2
   },
   "file_extension": ".py",
   "mimetype": "text/x-python",
   "name": "python",
   "nbconvert_exporter": "python",
   "pygments_lexer": "ipython2",
   "version": "2.7.15rc1"
  }
 },
 "nbformat": 4,
 "nbformat_minor": 2
}
