{
 "cells": [
  {
   "cell_type": "code",
   "execution_count": 1,
   "metadata": {},
   "outputs": [],
   "source": [
    "import networkx as nx\n",
    "import numpy as np\n",
    "import json"
   ]
  },
  {
   "cell_type": "code",
   "execution_count": 2,
   "metadata": {},
   "outputs": [
    {
     "name": "stdout",
     "output_type": "stream",
     "text": [
      "1\n",
      "2\n",
      "3\n",
      "4\n",
      "5\n",
      "6\n",
      "7\n",
      "8\n",
      "9\n",
      "10\n",
      "11\n",
      "12\n",
      "2009\n",
      "1\n",
      "2\n",
      "3\n",
      "4\n",
      "5\n",
      "6\n",
      "7\n",
      "8\n",
      "9\n",
      "10\n",
      "11\n",
      "12\n",
      "2010\n"
     ]
    }
   ],
   "source": [
    "path = \"D:\\\\Academics\\\\Introduction to Data Science\\\\project\\\\data\\\\\"\n",
    "\n",
    "d = {}\n",
    "u = []\n",
    "\n",
    "# nu = 1\n",
    "for year in range(2009, 2011):\n",
    "    for month in range(1,13):\n",
    "        f1 = open(path +str(year)+\"\\\\\"+ 'outputs' + str(year) + '_' + str(month) + '.txt', 'r')\n",
    "        f = open(path +str(year)+\"\\\\\"+ 'inputs' + str(year) + '_' + str(month) + '.txt', 'r')\n",
    "        data = f1.readlines()\n",
    "        for trnx in data:\n",
    "            trnx = trnx[:-1].split(\"\\t\")\n",
    "            ind=0\n",
    "            for i in range(2, len(trnx), 2):\n",
    "                d[(trnx[1], str(ind))] = trnx[i]\n",
    "                ind+=1\n",
    "                \n",
    "        data = f.readlines()\n",
    "        f1.close()\n",
    "        f.close()\n",
    "        for trnx in data:\n",
    "            trnx = trnx[:-1].split(\"\\t\")\n",
    "            in_addr_cost = []\n",
    "            f=0\n",
    "            l = []\n",
    "            for i in range(2, len(trnx), 2):\n",
    "                try:\n",
    "                    l.append(d[(trnx[i], trnx[i+1])])\n",
    "                except:\n",
    "                    pass\n",
    "            \n",
    "            if l:\n",
    "                se = set()\n",
    "                for i in l:\n",
    "                    for j in u:\n",
    "                        if i in j:\n",
    "                            se.add(u.index(j))\n",
    "                if se:\n",
    "                    label = min(se)\n",
    "                    user = []\n",
    "                    se = sorted(list(se))\n",
    "                    for i in se:\n",
    "                        if i!=label:\n",
    "                            user += u.pop(i)\n",
    "                    u[label]+=user \n",
    "                else:\n",
    "                    u.append(l)\n",
    "            \n",
    "        print(month)\n",
    "        fu = open(\"users\", \"w\")\n",
    "        json.dump(u, fu)\n",
    "    print(year)"
   ]
  },
  {
   "cell_type": "code",
   "execution_count": 3,
   "metadata": {},
   "outputs": [],
   "source": [
    "# sorted(u.values())"
   ]
  },
  {
   "cell_type": "code",
   "execution_count": 4,
   "metadata": {},
   "outputs": [],
   "source": [
    "# u = [1, [2,1], 3]\n",
    "# import json\n",
    "# f = open(\"users\", \"w\")\n",
    "# json.dump(u, f)\n",
    "# f.close()"
   ]
  },
  {
   "cell_type": "code",
   "execution_count": 5,
   "metadata": {},
   "outputs": [],
   "source": [
    "# f = open(\"users\", \"r\")\n",
    "# print((f.readlines()[0]))\n",
    "# f.close()"
   ]
  },
  {
   "cell_type": "code",
   "execution_count": 1,
   "metadata": {},
   "outputs": [
    {
     "ename": "NameError",
     "evalue": "name 'nx' is not defined",
     "output_type": "error",
     "traceback": [
      "\u001b[1;31m---------------------------------------------------------------------------\u001b[0m",
      "\u001b[1;31mNameError\u001b[0m                                 Traceback (most recent call last)",
      "\u001b[1;32m<ipython-input-1-83e177f632ba>\u001b[0m in \u001b[0;36m<module>\u001b[1;34m()\u001b[0m\n\u001b[0;32m      1\u001b[0m \u001b[0mpath\u001b[0m \u001b[1;33m=\u001b[0m \u001b[1;34m\"D:\\\\Academics\\\\Introduction to Data Science\\\\project\\\\data\\\\\"\u001b[0m\u001b[1;33m\u001b[0m\u001b[1;33m\u001b[0m\u001b[0m\n\u001b[0;32m      2\u001b[0m \u001b[1;33m\u001b[0m\u001b[0m\n\u001b[1;32m----> 3\u001b[1;33m \u001b[0mG\u001b[0m \u001b[1;33m=\u001b[0m \u001b[0mnx\u001b[0m\u001b[1;33m.\u001b[0m\u001b[0mread_graphml\u001b[0m\u001b[1;33m(\u001b[0m\u001b[0mpath\u001b[0m \u001b[1;33m+\u001b[0m \u001b[1;34m\"LCC\\\\\"\u001b[0m \u001b[1;33m+\u001b[0m \u001b[0mstr\u001b[0m\u001b[1;33m(\u001b[0m\u001b[1;36m2010\u001b[0m\u001b[1;33m)\u001b[0m \u001b[1;33m+\u001b[0m \u001b[1;34m\"_\"\u001b[0m \u001b[1;33m+\u001b[0m \u001b[0mstr\u001b[0m\u001b[1;33m(\u001b[0m\u001b[1;36m5\u001b[0m\u001b[1;33m)\u001b[0m \u001b[1;33m+\u001b[0m \u001b[1;34m\".graphml\"\u001b[0m\u001b[1;33m)\u001b[0m\u001b[1;33m\u001b[0m\u001b[1;33m\u001b[0m\u001b[0m\n\u001b[0m",
      "\u001b[1;31mNameError\u001b[0m: name 'nx' is not defined"
     ]
    }
   ],
   "source": []
  },
  {
   "cell_type": "code",
   "execution_count": null,
   "metadata": {},
   "outputs": [],
   "source": []
  }
 ],
 "metadata": {
  "kernelspec": {
   "display_name": "Python 3",
   "language": "python",
   "name": "python3"
  },
  "language_info": {
   "codemirror_mode": {
    "name": "ipython",
    "version": 3
   },
   "file_extension": ".py",
   "mimetype": "text/x-python",
   "name": "python",
   "nbconvert_exporter": "python",
   "pygments_lexer": "ipython3",
   "version": "3.7.1"
  }
 },
 "nbformat": 4,
 "nbformat_minor": 2
}
