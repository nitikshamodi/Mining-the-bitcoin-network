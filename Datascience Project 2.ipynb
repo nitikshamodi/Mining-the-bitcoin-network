{
 "cells": [
  {
   "cell_type": "code",
   "execution_count": 8,
   "metadata": {},
   "outputs": [],
   "source": [
    "import networkx as nx\n",
    "import numpy as np"
   ]
  },
  {
   "cell_type": "code",
   "execution_count": 13,
   "metadata": {},
   "outputs": [
    {
     "name": "stdout",
     "output_type": "stream",
     "text": [
      "32 35\n"
     ]
    }
   ],
   "source": [
    "path = \"D:\\\\Academics\\\\Introduction to Data Science\\\\project\\\\data\\\\\"\n",
    "\n",
    "last_year = 2009\n",
    "last_month = 1\n",
    "G_init = nx.Graph()\n",
    "d = {}\n",
    "for year in range(2009, last_year+1):\n",
    "    for month in range(1,13):\n",
    "        if year == last_year and month>last_month:\n",
    "            break\n",
    "#         Unix time of transaction hash of transaction hash of first output address amount of first output bitcoins \n",
    "#         hash of second output address amount of second output bitcoins (additional outputs, if exist)\\r\\n\n",
    "        with open(path +str(year)+\"\\\\\"+ 'outputs' + str(year) + '_' + str(month) + '.txt', 'r') as f:\n",
    "            data = f.readlines()\n",
    "            for trnx in data:\n",
    "                trnx = trnx[:-1].split(\"\\t\")\n",
    "                ind=0\n",
    "                for i in range(2, len(trnx), 2):\n",
    "                    d[(trnx[1], str(ind))] = [trnx[i], float(trnx[i+1])/10**8]\n",
    "                    G_init.add_edge(trnx[1], trnx[i], weight = float(trnx[i+1])/10**8)\n",
    "                    ind+=1\n",
    "print(G_init.number_of_edges(), G_init.number_of_nodes())"
   ]
  },
  {
   "cell_type": "code",
   "execution_count": 14,
   "metadata": {},
   "outputs": [],
   "source": [
    "# G = nx.MultiDiGraph()\n",
    "for year in range(2009, last_year+1):\n",
    "    for month in range(1,13):\n",
    "        if year == last_year and month> last_month:\n",
    "            break\n",
    "        with open(path +str(year)+\"\\\\\"+ 'inputs' + str(year) + '_' + str(month) + '.txt', 'r') as f:\n",
    "            data = f.readlines()\n",
    "            for trnx in data:\n",
    "                trnx = trnx[:-1].split(\"\\t\")\n",
    "#                 print(trnx)\n",
    "                in_addr_cost = []\n",
    "                f=0\n",
    "                for i in range(2, len(trnx), 2):\n",
    "                    try:\n",
    "                        in_addr_cost.append(d[(trnx[i], trnx[i+1])])\n",
    "                    except:\n",
    "                        f=1\n",
    "                neigh = list(G_init.neighbors(trnx[1]))\n",
    "                outcost = np.array([G_init[trnx[1]][v]['weight'] for v in neigh])\n",
    "                if f==1:\n",
    "                    if in_addr_cost == []:\n",
    "                        in_addr_cost.append(['unknown', sum(outcost)])\n",
    "                    else: \n",
    "                        s = sum(map(float, np.array(in_addr_cost)[:,1]))\n",
    "                        in_addr_cost.append(['unknown', sum(outcost)-s])\n",
    "                \n",
    "                in_addr_cost = np.array(in_addr_cost).transpose()\n",
    "                s = sum(map(float, list(in_addr_cost[1])))\n",
    "                in_addr_cost[1] = np.array(list(map(float, in_addr_cost[1])))/s\n",
    "                G_init.remove_node(trnx[1])\n",
    "                for i in range(len(in_addr_cost[1])):\n",
    "                    costs = float(in_addr_cost[1][0])*outcost\n",
    "                    for j in range(len(neigh)):\n",
    "                        if in_addr_cost[0][i]!='noaddress' and in_addr_cost[0][i] !='unknown' and neigh[j]!='noaddress' and neigh[j]!='unknown':\n",
    "                            if G_init.has_edge(in_addr_cost[0][i], neigh[j]):\n",
    "                                G_init[in_addr_cost[0][i]][neigh[j]]['weight'] += float(costs[j])\n",
    "#                                 print(G_init[in_addr_cost[0][i]][neigh[j]]['weight'])\n",
    "                            else:\n",
    "                                G_init.add_edge(in_addr_cost[0][i], neigh[j], weight = float(costs[j]))\n",
    "#                 print(G_init.number_of_nodes(), G_init.number_of_edges())"
   ]
  },
  {
   "cell_type": "code",
   "execution_count": 15,
   "metadata": {},
   "outputs": [
    {
     "data": {
      "text/plain": [
       "(2, 0)"
      ]
     },
     "execution_count": 15,
     "metadata": {},
     "output_type": "execute_result"
    }
   ],
   "source": [
    "G_init.remove_node('noaddress')\n",
    "# G_init.remove_node('unknown')\n",
    "G_init.number_of_nodes(), G_init.number_of_edges()"
   ]
  },
  {
   "cell_type": "code",
   "execution_count": 16,
   "metadata": {},
   "outputs": [],
   "source": [
    "nx.write_graphml(G_init, path + \"graphs_without_na_unk\\\\\" + str(last_year) + \"_\" + str(last_month) + \".graphml\")"
   ]
  },
  {
   "cell_type": "code",
   "execution_count": 25,
   "metadata": {},
   "outputs": [
    {
     "data": {
      "text/plain": [
       "True"
      ]
     },
     "execution_count": 25,
     "metadata": {},
     "output_type": "execute_result"
    }
   ],
   "source": [
    "G_init.add_node(\"noaddress\")\n",
    "\"noaddress\" in G_init"
   ]
  },
  {
   "cell_type": "code",
   "execution_count": 26,
   "metadata": {},
   "outputs": [],
   "source": [
    "path = \"D:\\\\Academics\\\\Introduction to Data Science\\\\project\\\\data\\\\\"\n",
    "nodes = [67, 105, 145, 3515, 3744, 4407, 21652, 27572, 35493, 44716, 58543, 73553,\n",
    "         102375, 154531, 235040, 320660, 502030, 926342, 1408276, 1784883, 2054950, 2256466, 2443383, 2605279]\n",
    "edges = [35, 59, 84, 6578, 6941, 7960, 34025, 42918, 55779, 72259, 96643, 118119, 169245, \n",
    "        252998, 400591, 582756, 972730, 1944436, 2906598, 3716491, 4436879, 4954600, 5444500, 5888648]\n",
    "x = []\n",
    "count = 1\n",
    "for year in range(2010, 2012):\n",
    "    for month in range(1,13):\n",
    "#         x.append(str(year) + \"_\" + str(month))\n",
    "        x.append(count)\n",
    "        count+=1"
   ]
  },
  {
   "cell_type": "code",
   "execution_count": 32,
   "metadata": {},
   "outputs": [
    {
     "data": {
      "text/plain": [
       "<matplotlib.collections.PathCollection at 0x242768bab70>"
      ]
     },
     "execution_count": 32,
     "metadata": {},
     "output_type": "execute_result"
    },
    {
     "data": {
      "image/png": "[encoded data removed]",
      "text/plain": [
       "<Figure size 432x288 with 1 Axes>"
      ]
     },
     "metadata": {
      "needs_background": "light"
     },
     "output_type": "display_data"
    }
   ],
   "source": [
    "import matplotlib.pyplot as plt\n",
    "plt.scatter(x, nodes)"
   ]
  },
  {
   "cell_type": "code",
   "execution_count": 33,
   "metadata": {},
   "outputs": [
    {
     "data": {
      "text/plain": [
       "<matplotlib.collections.PathCollection at 0x24276917780>"
      ]
     },
     "execution_count": 33,
     "metadata": {},
     "output_type": "execute_result"
    },
    {
     "data": {
      "image/png": "[encoded data removed]",
      "text/plain": [
       "<Figure size 432x288 with 1 Axes>"
      ]
     },
     "metadata": {
      "needs_background": "light"
     },
     "output_type": "display_data"
    }
   ],
   "source": [
    "plt.scatter(x, edges)"
   ]
  },
  {
   "cell_type": "code",
   "execution_count": null,
   "metadata": {},
   "outputs": [],
   "source": []
  }
 ],
 "metadata": {
  "kernelspec": {
   "display_name": "Python 3",
   "language": "python",
   "name": "python3"
  },
  "language_info": {
   "codemirror_mode": {
    "name": "ipython",
    "version": 3
   },
   "file_extension": ".py",
   "mimetype": "text/x-python",
   "name": "python",
   "nbconvert_exporter": "python",
   "pygments_lexer": "ipython3",
   "version": "3.7.1"
  }
 },
 "nbformat": 4,
 "nbformat_minor": 2
}
