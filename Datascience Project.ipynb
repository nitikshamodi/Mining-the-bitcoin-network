{
 "cells": [
  {
   "cell_type": "code",
   "execution_count": 2,
   "metadata": {},
   "outputs": [],
   "source": [
    "import networkx as nx\n",
    "import numpy as np"
   ]
  },
  {
   "cell_type": "code",
   "execution_count": 3,
   "metadata": {},
   "outputs": [],
   "source": [
    "path = \"D:\\\\Academics\\\\Introduction to Data Science\\\\project\\\\data\\\\\"\n",
    "\n",
    "G_init = nx.Graph()\n",
    "d = {}\n",
    "for year in range(2009, 2010):\n",
    "    for month in range(1,13):\n",
    "#         Unix time of transaction hash of transaction hash of first output address amount of first output bitcoins \n",
    "#         hash of second output address amount of second output bitcoins (additional outputs, if exist)\\r\\n\n",
    "        with open(path +str(year)+\"\\\\\"+ 'outputs' + str(year) + '_' + str(month) + '.txt', 'r') as f:\n",
    "            data = f.readlines()\n",
    "            for trnx in data:\n",
    "                trnx = trnx[:-1].split(\"\\t\")\n",
    "                ind=0\n",
    "                for i in range(2, len(trnx), 2):\n",
    "                    d[(trnx[1], str(ind))] = [trnx[i], int(trnx[i+1])]\n",
    "                    G_init.add_edge(trnx[1], trnx[i], weight = trnx[i+1])\n",
    "                    ind+=1"
   ]
  },
  {
   "cell_type": "code",
   "execution_count": 4,
   "metadata": {},
   "outputs": [],
   "source": [
    "G = nx.MultiDiGraph()\n",
    "for year in range(2009, 2010):\n",
    "    for month in range(1,13):\n",
    "        with open(path +str(year)+\"\\\\\"+ 'inputs' + str(year) + '_' + str(month) + '.txt', 'r') as f:\n",
    "            data = f.readlines()\n",
    "            for trnx in data:\n",
    "                trnx = trnx[:-1].split(\"\\t\")\n",
    "                incosts = []\n",
    "                f=0\n",
    "                for i in range(2, len(trnx), 2):\n",
    "                    try:\n",
    "                        incosts.append(d[(trnx[i], trnx[i+1])])\n",
    "                    except:\n",
    "                        f=1\n",
    "                        \n",
    "                neigh = list(G_init.neighbors(trnx[1]))\n",
    "                outcosts = np.array([int(G_init[trnx[1]][v]['weight']) for v in neigh])\n",
    "                if f==1:\n",
    "                    if incosts == []:\n",
    "                        incosts.append(['unknown', sum(outcosts)])\n",
    "                    else: \n",
    "                        s = sum(map(int, list(np.array(incosts).transpose()[1])))\n",
    "                        incosts.append(['unknown', sum(outcosts)-s])\n",
    "                incosts = np.array(incosts).transpose()\n",
    "                s = sum(map(int, list(incosts[1])))\n",
    "                incosts[1] = np.array(list(map(int, incosts[1])))/s\n",
    "                for i in range(len(incosts[1])):\n",
    "                    costs = float(incosts[1][0])*outcosts\n",
    "                    for j in range(len(neigh)):\n",
    "                        G.add_edge(incosts[0][i], neigh[j], weight = costs[j])"
   ]
  },
  {
   "cell_type": "code",
   "execution_count": 14,
   "metadata": {},
   "outputs": [],
   "source": [
    "# for i in G.nodes():\n",
    "#     print(i)"
   ]
  },
  {
   "cell_type": "code",
   "execution_count": 5,
   "metadata": {},
   "outputs": [
    {
     "data": {
      "text/plain": [
       "(53, 349)"
      ]
     },
     "execution_count": 5,
     "metadata": {},
     "output_type": "execute_result"
    }
   ],
   "source": [
    "G.number_of_nodes(), G.number_of_edges()"
   ]
  },
  {
   "cell_type": "code",
   "execution_count": 7,
   "metadata": {},
   "outputs": [
    {
     "data": {
      "image/png": "[encoded data removed]",
      "text/plain": [
       "<Figure size 1080x432 with 2 Axes>"
      ]
     },
     "metadata": {
      "needs_background": "light"
     },
     "output_type": "display_data"
    }
   ],
   "source": [
    "import matplotlib.pyplot as plt\n",
    "fig = plt.figure(figsize=(15,6))\n",
    "plt1 = fig.add_subplot(121)\n",
    "lst = []\n",
    "for i in G.nodes():\n",
    "    if i!=\"noaddress\" and i!=\"unknown\":\n",
    "        d = G.in_degree(i)\n",
    "        if d>1:\n",
    "            lst.append(d)\n",
    "plt1.set_xlabel(\"Indegree (log scale)\")\n",
    "plt1.set_ylabel(\"Number of nodes\")\n",
    "plt1.hist(np.log(lst))\n",
    "\n",
    "plt2 = fig.add_subplot(122)\n",
    "lst = []\n",
    "for i in G.nodes():\n",
    "    if i!=\"noaddress\" and i!=\"unknown\":\n",
    "        d = G.out_degree(i)\n",
    "        if d>1:\n",
    "            lst.append(d)\n",
    "            \n",
    "plt2.set_xlabel(\"Outdegree (log scale)\")\n",
    "plt2.set_ylabel(\"Number of nodes\")\n",
    "plt2.hist((np.log(lst)))\n",
    "plt.show()"
   ]
  },
  {
   "cell_type": "code",
   "execution_count": 8,
   "metadata": {},
   "outputs": [
    {
     "ename": "IndexError",
     "evalue": "list index out of range",
     "output_type": "error",
     "traceback": [
      "\u001b[1;31m---------------------------------------------------------------------------\u001b[0m",
      "\u001b[1;31mIndexError\u001b[0m                                Traceback (most recent call last)",
      "\u001b[1;32m<ipython-input-8-cc8ed4dd1afc>\u001b[0m in \u001b[0;36m<module>\u001b[1;34m()\u001b[0m\n\u001b[0;32m      2\u001b[0m \u001b[0mG\u001b[0m\u001b[1;33m.\u001b[0m\u001b[0mremove_node\u001b[0m\u001b[1;33m(\u001b[0m\u001b[1;34m\"unknown\"\u001b[0m\u001b[1;33m)\u001b[0m\u001b[1;33m\u001b[0m\u001b[1;33m\u001b[0m\u001b[0m\n\u001b[0;32m      3\u001b[0m \u001b[0mG\u001b[0m\u001b[1;33m.\u001b[0m\u001b[0mremove_node\u001b[0m\u001b[1;33m(\u001b[0m\u001b[1;34m\"noaddress\"\u001b[0m\u001b[1;33m)\u001b[0m\u001b[1;33m\u001b[0m\u001b[1;33m\u001b[0m\u001b[0m\n\u001b[1;32m----> 4\u001b[1;33m \u001b[0mc\u001b[0m \u001b[1;33m=\u001b[0m \u001b[0mgreedy_modularity_communities\u001b[0m\u001b[1;33m(\u001b[0m\u001b[0mG\u001b[0m\u001b[1;33m)\u001b[0m\u001b[1;33m\u001b[0m\u001b[1;33m\u001b[0m\u001b[0m\n\u001b[0m",
      "\u001b[1;32m~\\Anaconda3\\lib\\site-packages\\networkx\\algorithms\\community\\modularity_max.py\u001b[0m in \u001b[0;36mgreedy_modularity_communities\u001b[1;34m(G, weight)\u001b[0m\n\u001b[0;32m    125\u001b[0m         \u001b[1;31m# If this element was also at the root of row j, we need to remove the\u001b[0m\u001b[1;33m\u001b[0m\u001b[1;33m\u001b[0m\u001b[1;33m\u001b[0m\u001b[0m\n\u001b[0;32m    126\u001b[0m         \u001b[1;31m# duplicate entry from H\u001b[0m\u001b[1;33m\u001b[0m\u001b[1;33m\u001b[0m\u001b[1;33m\u001b[0m\u001b[0m\n\u001b[1;32m--> 127\u001b[1;33m         \u001b[1;32mif\u001b[0m \u001b[0mdq_heap\u001b[0m\u001b[1;33m[\u001b[0m\u001b[0mj\u001b[0m\u001b[1;33m]\u001b[0m\u001b[1;33m.\u001b[0m\u001b[0mh\u001b[0m\u001b[1;33m[\u001b[0m\u001b[1;36m0\u001b[0m\u001b[1;33m]\u001b[0m \u001b[1;33m==\u001b[0m \u001b[1;33m(\u001b[0m\u001b[1;33m-\u001b[0m\u001b[0mdq\u001b[0m\u001b[1;33m,\u001b[0m \u001b[0mj\u001b[0m\u001b[1;33m,\u001b[0m \u001b[0mi\u001b[0m\u001b[1;33m)\u001b[0m\u001b[1;33m:\u001b[0m\u001b[1;33m\u001b[0m\u001b[1;33m\u001b[0m\u001b[0m\n\u001b[0m\u001b[0;32m    128\u001b[0m             \u001b[0mH\u001b[0m\u001b[1;33m.\u001b[0m\u001b[0mremove\u001b[0m\u001b[1;33m(\u001b[0m\u001b[1;33m(\u001b[0m\u001b[1;33m-\u001b[0m\u001b[0mdq\u001b[0m\u001b[1;33m,\u001b[0m \u001b[0mj\u001b[0m\u001b[1;33m,\u001b[0m \u001b[0mi\u001b[0m\u001b[1;33m)\u001b[0m\u001b[1;33m)\u001b[0m\u001b[1;33m\u001b[0m\u001b[1;33m\u001b[0m\u001b[0m\n\u001b[0;32m    129\u001b[0m             \u001b[1;31m# Remove best merge from row j heap\u001b[0m\u001b[1;33m\u001b[0m\u001b[1;33m\u001b[0m\u001b[1;33m\u001b[0m\u001b[0m\n",
      "\u001b[1;31mIndexError\u001b[0m: list index out of range"
     ]
    }
   ],
   "source": [
    "from networkx.algorithms.community import greedy_modularity_communities\n",
    "G.remove_node(\"unknown\")\n",
    "G.remove_node(\"noaddress\")\n",
    "c = greedy_modularity_communities(G)"
   ]
  },
  {
   "cell_type": "code",
   "execution_count": null,
   "metadata": {},
   "outputs": [],
   "source": [
    "# nx.get_node_attributes(G, 'weight')"
   ]
  },
  {
   "cell_type": "code",
   "execution_count": null,
   "metadata": {},
   "outputs": [],
   "source": [
    "G.nodes()"
   ]
  },
  {
   "cell_type": "code",
   "execution_count": null,
   "metadata": {},
   "outputs": [],
   "source": [
    "G.nodes()"
   ]
  },
  {
   "cell_type": "code",
   "execution_count": null,
   "metadata": {},
   "outputs": [],
   "source": []
  }
 ],
 "metadata": {
  "kernelspec": {
   "display_name": "Python 3",
   "language": "python",
   "name": "python3"
  },
  "language_info": {
   "codemirror_mode": {
    "name": "ipython",
    "version": 3
   },
   "file_extension": ".py",
   "mimetype": "text/x-python",
   "name": "python",
   "nbconvert_exporter": "python",
   "pygments_lexer": "ipython3",
   "version": "3.7.1"
  }
 },
 "nbformat": 4,
 "nbformat_minor": 2
}
