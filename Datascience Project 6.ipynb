{
 "cells": [
  {
   "cell_type": "code",
   "execution_count": 1,
   "metadata": {},
   "outputs": [],
   "source": [
    "import networkx as nx\n",
    "import numpy as np"
   ]
  },
  {
   "cell_type": "code",
   "execution_count": 2,
   "metadata": {},
   "outputs": [
    {
     "name": "stdout",
     "output_type": "stream",
     "text": [
      "2 1 0.5 2009 1\n",
      "8 2 0.25 2009 2\n",
      "8 2 0.25 2009 3\n",
      "12 2 0.16666666666666666 2009 4\n",
      "19 2 0.10526315789473684 2009 5\n",
      "21 2 0.09523809523809523 2009 6\n",
      "24 2 0.08333333333333333 2009 7\n",
      "25 2 0.08 2009 8\n",
      "25 2 0.08 2009 9\n",
      "30 6 0.2 2009 10\n",
      "35 10 0.2857142857142857 2009 11\n",
      "51 10 0.19607843137254902 2009 12\n",
      "67 10 0.14925373134328357 2010 1\n",
      "105 11 0.10476190476190476 2010 2\n",
      "145 17 0.11724137931034483 2010 3\n",
      "3515 3353 0.9539118065433855 2010 4\n",
      "3744 3508 0.936965811965812 2010 5\n",
      "4407 4185 0.9496255956432947 2010 6\n",
      "21652 20845 0.9627286162941068 2010 7\n",
      "27572 26559 0.9632598288118381 2010 8\n",
      "35493 34322 0.9670075789592314 2010 9\n",
      "44716 43527 0.9734099651131586 2010 10\n",
      "58543 57229 0.9775549596023436 2010 11\n",
      "73553 72111 0.9803950892553669 2010 12\n",
      "102375 100989 0.9864615384615385 2011 1\n",
      "154531 153072 0.9905585287094499 2011 2\n",
      "235040 232648 0.9898230088495575 2011 3\n",
      "320660 318156 0.9921911058441963 2011 4\n",
      "502030 498828 0.9936218951058702 2011 5\n",
      "926342 922876 0.9962584013247807 2011 6\n",
      "1408276 1404474 0.997300245122405 2011 7\n",
      "1784883 1780453 0.9975180446001223 2011 8\n",
      "2054950 2051523 0.9983323195211562 2011 9\n",
      "2256466 2252734 0.9983460863137313 2011 10\n",
      "2443383 2440133 0.9986698769697587 2011 11\n",
      "2605279 2601064 0.9983821310500718 2011 12\n"
     ]
    }
   ],
   "source": [
    "path = \"D:\\\\Academics\\\\Introduction to Data Science\\\\project\\\\data\\\\\"\n",
    "\n",
    "G_init = nx.Graph()\n",
    "d = {}\n",
    "prd = {}\n",
    "for year in range(2009, 2012):\n",
    "    for month in range(1,13):\n",
    "        f1 = open(path +str(year)+\"\\\\\"+ 'outputs' + str(year) + '_' + str(month) + '.txt', 'r')\n",
    "        f = open(path +str(year)+\"\\\\\"+ 'inputs' + str(year) + '_' + str(month) + '.txt', 'r')\n",
    "        data = f1.readlines()\n",
    "        for trnx in data:\n",
    "            trnx = trnx[:-1].split(\"\\t\")\n",
    "            ind=0\n",
    "            for i in range(2, len(trnx), 2):\n",
    "                if G_init.has_edge(trnx[1], trnx[i]):\n",
    "                    G_init[trnx[1]][trnx[i]]['weight'] += float(trnx[i+1])/10**8\n",
    "                    d[(trnx[1], str(ind))] = [trnx[i], G_init[trnx[1]][trnx[i]]['weight']]\n",
    "                else:\n",
    "                    d[(trnx[1], str(ind))] = [trnx[i], float(trnx[i+1])/10**8]\n",
    "                    G_init.add_edge(trnx[1], trnx[i], weight = float(trnx[i+1])/10**8)\n",
    "                ind+=1\n",
    "        data = f.readlines()\n",
    "        for trnx in data:\n",
    "            trnx = trnx[:-1].split(\"\\t\")\n",
    "            in_addr_cost = []\n",
    "            f=0\n",
    "            for i in range(2, len(trnx), 2):\n",
    "                try:\n",
    "                    in_addr_cost.append(d[(trnx[i], trnx[i+1])])\n",
    "                except:\n",
    "                    f=1\n",
    "            neigh = list(G_init.neighbors(trnx[1]))\n",
    "            outcost = np.array([G_init[trnx[1]][v]['weight'] for v in neigh])\n",
    "            if f==1:\n",
    "                if in_addr_cost == []:\n",
    "                    in_addr_cost.append(['unknown', sum(outcost)])\n",
    "                else: \n",
    "                    s = sum(map(float, np.array(in_addr_cost)[:,1]))\n",
    "                    in_addr_cost.append(['unknown', sum(outcost)-s])\n",
    "\n",
    "            in_addr_cost = np.array(in_addr_cost).transpose()\n",
    "            s = sum(map(float, list(in_addr_cost[1])))\n",
    "            in_addr_cost[1] = np.array(list(map(float, in_addr_cost[1])))/s\n",
    "            G_init.remove_node(trnx[1])\n",
    "            for i in range(len(in_addr_cost[1])):\n",
    "                costs = float(in_addr_cost[1][0])*outcost\n",
    "                for j in range(len(neigh)):\n",
    "                    if in_addr_cost[0][i]!='noaddress' and in_addr_cost[0][i] !='unknown' and neigh[j]!='noaddress' and neigh[j]!='unknown' and in_addr_cost[0][i] != neigh[j]:\n",
    "                        if G_init.has_edge(in_addr_cost[0][i], neigh[j]):\n",
    "                            G_init[in_addr_cost[0][i]][neigh[j]]['weight'] += float(costs[j])\n",
    "                        else:\n",
    "                            G_init.add_edge(in_addr_cost[0][i], neigh[j], weight = float(costs[j]))\n",
    "\n",
    "        if('noaddress' in G_init):\n",
    "            G_init.remove_node('noaddress')\n",
    "        if('unknown' in G_init):\n",
    "            G_init.remove_node('unknown')\n",
    "        \n",
    "        largest = max(nx.connected_components(G_init), key = len)\n",
    "        largest = nx.subgraph(G_init, largest)\n",
    "        nx.write_graphml(G_init, path + \"LCC//\" + str(year) + \"_\" + str(month))\n",
    "        print(G_init.number_of_nodes(), largest.number_of_nodes(),  largest.number_of_nodes()/G_init.number_of_nodes(),year, month)"
   ]
  },
  {
   "cell_type": "code",
   "execution_count": null,
   "metadata": {},
   "outputs": [],
   "source": [
    "# print(G_init.number_of_nodes(), largest.number_of_nodes(),  largest.number_of_nodes()/G_init.number_of_nodes(),year, month)\n",
    "# largest connected component\n",
    "# 2 1 0.5 2009 1\n",
    "# 8 2 0.25 2009 2\n",
    "# 8 2 0.25 2009 3\n",
    "# 12 2 0.16666666666666666 2009 4\n",
    "# 19 2 0.10526315789473684 2009 5\n",
    "# 21 2 0.09523809523809523 2009 6\n",
    "# 24 2 0.08333333333333333 2009 7\n",
    "# 25 2 0.08 2009 8\n",
    "# 25 2 0.08 2009 9\n",
    "# 30 6 0.2 2009 10\n",
    "# 35 10 0.2857142857142857 2009 11\n",
    "# 51 10 0.19607843137254902 2009 12\n",
    "# 67 10 0.14925373134328357 2010 1\n",
    "# 105 11 0.10476190476190476 2010 2\n",
    "# 145 17 0.11724137931034483 2010 3\n",
    "# 3515 3353 0.9539118065433855 2010 4\n",
    "# 3744 3508 0.936965811965812 2010 5\n",
    "# 4407 4185 0.9496255956432947 2010 6\n",
    "# 21652 20845 0.9627286162941068 2010 7\n",
    "# 27572 26559 0.9632598288118381 2010 8\n",
    "# 35493 34322 0.9670075789592314 2010 9\n",
    "# 44716 43527 0.9734099651131586 2010 10\n",
    "# 58543 57229 0.9775549596023436 2010 11\n",
    "# 73553 72111 0.9803950892553669 2010 12\n",
    "# 102375 100989 0.9864615384615385 2011 1\n",
    "# 154531 153072 0.9905585287094499 2011 2\n",
    "# 235040 232648 0.9898230088495575 2011 3\n",
    "# 320660 318156 0.9921911058441963 2011 4\n",
    "# 502030 498828 0.9936218951058702 2011 5\n",
    "# 926342 922876 0.9962584013247807 2011 6\n",
    "# 1408276 1404474 0.997300245122405 2011 7\n",
    "# 1784883 1780453 0.9975180446001223 2011 8\n",
    "# 2054950 2051523 0.9983323195211562 2011 9\n",
    "# 2256466 2252734 0.9983460863137313 2011 10\n",
    "# 2443383 2440133 0.9986698769697587 2011 11\n",
    "# 2605279 2601064 0.9983821310500718 2011 12"
   ]
  },
  {
   "cell_type": "code",
   "execution_count": 2,
   "metadata": {},
   "outputs": [],
   "source": [
    "def invert_dict(d):\n",
    "    d2 = {}\n",
    "    for i in d:\n",
    "        if d[i] in d2:\n",
    "            d2[d[i]].append(i)\n",
    "        else:\n",
    "            d2[d[i]] = [i]\n",
    "    return d2"
   ]
  },
  {
   "cell_type": "markdown",
   "metadata": {},
   "source": [
    "## Clustering Coefficient"
   ]
  },
  {
   "cell_type": "code",
   "execution_count": 1,
   "metadata": {},
   "outputs": [],
   "source": [
    "# CLustering Coefficient\n",
    "\n",
    "# directed\n",
    "# 0.0 2009 1\n",
    "# 0.0 2009 2\n",
    "# 0.0 2009 3\n",
    "# 0.0 2009 4\n",
    "# 0.0 2009 5\n",
    "# 0.0 2009 6\n",
    "# 0.0 2009 7\n",
    "# 0.0 2009 8\n",
    "# 0.0 2009 9\n",
    "# 0.0 2009 10\n",
    "# 0.0 2009 11\n",
    "# 0.0 2009 12\n",
    "# 0.0 2010 1\n",
    "# 0.015873015873015872 2010 2\n",
    "# 0.010344827586206896 2010 3\n",
    "# 0.5922528269978193 2010 4\n",
    "# 0.5663780049801589 2010 5\n",
    "# 0.49537004517422983 2010 6\n",
    "# 0.3329729249852852 2010 7\n",
    "# 0.2835146102112767 2010 8\n",
    "# 0.24943673756265797 2010 9\n",
    "# 0.20984918506976596 2010 10\n",
    "# 0.21543083288419768 2010 11\n",
    "# 0.18128593913978144 2010 12\n",
    "# 0.15811997996307636 2011 1\n",
    "# 0.11739734744357648 2011 2\n",
    "# 0.10890378445118984 2011 3\n",
    "# 0.1000934973574445 2011 4\n",
    "# 0.08023383102330875 2011 5\n",
    "# 0.06564566549410313 2011 6\n",
    "\n",
    "#undirected\n",
    "# 0.0 2009 1\n",
    "# 0.0 2009 2\n",
    "# 0.0 2009 3\n",
    "# 0.0 2009 4\n",
    "# 0.0 2009 5\n",
    "# 0.0 2009 6\n",
    "# 0.0 2009 7\n",
    "# 0.0 2009 8\n",
    "# 0.0 2009 9\n",
    "# 0.0 2009 10\n",
    "# 0.0 2009 11\n",
    "# 0.0 2009 12\n",
    "# 0.0 2010 1\n",
    "# 0.015873015873015872 2010 2\n",
    "# 0.010344827586206896 2010 3\n",
    "# 0.5922528269978193 2010 4\n",
    "# 0.5663780049801589 2010 5\n",
    "# 0.49537004517422983 2010 6\n",
    "# 0.3329729249852852 2010 7\n",
    "# 0.2835146102112767 2010 8\n",
    "# 0.24943673756265797 2010 9\n",
    "# 0.20984918506976596 2010 10\n",
    "# 0.21543083288419768 2010 11\n",
    "# 0.18128593913978144 2010 12\n",
    "# 0.15811997996307636 2011 1\n",
    "# 0.11739734744357648 2011 2\n",
    "# 0.10890378445118984 2011 3\n",
    "# 0.1000934973574445 2011 4\n",
    "# 0.08023383102330875 2011 5\n",
    "# 0.06564566549410313 2011 6\n",
    "# 0.05959903674042382 2011 7"
   ]
  },
  {
   "cell_type": "markdown",
   "metadata": {},
   "source": [
    "## Pagerank and Small World"
   ]
  },
  {
   "cell_type": "code",
   "execution_count": 4,
   "metadata": {},
   "outputs": [],
   "source": [
    "# p = nx.pagerank(G)\n",
    "# p = invert_dict(p)\n",
    "# top_pr_node = []\n",
    "# for i in sorted(list(p.keys()))[::-1][:100]:\n",
    "#     top_pr_node.append(p[i])"
   ]
  },
  {
   "cell_type": "code",
   "execution_count": 5,
   "metadata": {},
   "outputs": [],
   "source": [
    "# top_pr_nodes"
   ]
  },
  {
   "cell_type": "code",
   "execution_count": 7,
   "metadata": {},
   "outputs": [],
   "source": [
    "# top_pr_node == top_pr_nodes"
   ]
  },
  {
   "cell_type": "code",
   "execution_count": 2,
   "metadata": {},
   "outputs": [],
   "source": [
    "path = \"D:\\\\Academics\\\\Introduction to Data Science\\\\project\\\\data\\\\\"\n",
    "G = nx.read_graphml(path + \"UG_NSL_NME\\\\2011_7.graphml\")"
   ]
  },
  {
   "cell_type": "code",
   "execution_count": 3,
   "metadata": {},
   "outputs": [],
   "source": [
    "largest_strong = max(nx.connected_components(G), key = len)"
   ]
  },
  {
   "cell_type": "code",
   "execution_count": 10,
   "metadata": {},
   "outputs": [],
   "source": [
    "# largest_strong"
   ]
  },
  {
   "cell_type": "code",
   "execution_count": 5,
   "metadata": {},
   "outputs": [],
   "source": [
    "number_nodes = {}\n",
    "q = ['1V5yGhpZicSFZDemTyReQFkthiHbNLwdQ']\n",
    "l = [0]\n",
    "while(q != []):\n",
    "    s = q.pop(0)\n",
    "    lev = l.pop(0)\n",
    "    try:\n",
    "        number_nodes[lev] += 1\n",
    "    except:\n",
    "        number_nodes[lev] = 1\n",
    "    for i in nx.neighbors(bfs, s):\n",
    "        q.append(i)\n",
    "        l.append(lev+1)"
   ]
  },
  {
   "cell_type": "code",
   "execution_count": null,
   "metadata": {},
   "outputs": [],
   "source": [
    "number_nodes"
   ]
  },
  {
   "cell_type": "code",
   "execution_count": 4,
   "metadata": {},
   "outputs": [],
   "source": [
    "bfs = nx.bfs_tree(G,'1V5yGhpZicSFZDemTyReQFkthiHbNLwdQ')"
   ]
  },
  {
   "cell_type": "code",
   "execution_count": 3,
   "metadata": {},
   "outputs": [
    {
     "data": {
      "image/png": "[encoded data removed]",
      "text/plain": [
       "<Figure size 432x288 with 1 Axes>"
      ]
     },
     "metadata": {
      "needs_background": "light"
     },
     "output_type": "display_data"
    }
   ],
   "source": [
    "import matplotlib.pyplot as plt\n",
    "cc = [0.0, 0.015873015873015872, 0.010344827586206896, 0.5922528269978193, 0.5663780049801589, 0.49537004517422983, 0.3329729249852852, \n",
    "0.2835146102112767, 0.24943673756265797, 0.20984918506976596, 0.21543083288419768, 0.18128593913978144, 0.15811997996307636, \n",
    "0.11739734744357648, 0.10890378445118984, 0.1000934973574445, 0.08023383102330875, 0.06564566549410313]\n",
    "plt.plot(range(13, 31), cc)\n",
    "plt.xlabel(\"Number of months since January 2009\")\n",
    "plt.ylabel(\"Clustering Coefficient\")\n",
    "plt.show()"
   ]
  },
  {
   "cell_type": "code",
   "execution_count": null,
   "metadata": {},
   "outputs": [],
   "source": [
    "import matplotlib.pyplot as plt\n",
    "cc = [0.0, 0.015873015873015872, 0.010344827586206896, 0.5922528269978193, 0.5663780049801589, 0.49537004517422983, 0.3329729249852852, \n",
    "0.2835146102112767, 0.24943673756265797, 0.20984918506976596, 0.21543083288419768, 0.18128593913978144, 0.15811997996307636, \n",
    "0.11739734744357648, 0.10890378445118984, 0.1000934973574445, 0.08023383102330875, 0.06564566549410313]\n",
    "plt.plot(range(13, 31), cc)\n",
    "plt.xlabel(\"Number of months since January 2009\")\n",
    "plt.ylabel(\"Clustering Coefficient\")\n",
    "plt.title(\"Undirected Graphs\")"
   ]
  }
 ],
 "metadata": {
  "kernelspec": {
   "display_name": "Python 3",
   "language": "python",
   "name": "python3"
  },
  "language_info": {
   "codemirror_mode": {
    "name": "ipython",
    "version": 3
   },
   "file_extension": ".py",
   "mimetype": "text/x-python",
   "name": "python",
   "nbconvert_exporter": "python",
   "pygments_lexer": "ipython3",
   "version": "3.7.1"
  }
 },
 "nbformat": 4,
 "nbformat_minor": 2
}
