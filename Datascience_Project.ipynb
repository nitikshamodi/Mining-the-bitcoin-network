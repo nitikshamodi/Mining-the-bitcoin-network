{
  "nbformat": 4,
  "nbformat_minor": 0,
  "metadata": {
    "colab": {
      "name": "Datascience Project",
      "version": "0.3.2",
      "provenance": [],
      "include_colab_link": true
    },
    "kernelspec": {
      "name": "python3",
      "display_name": "Python 3"
    },
    "accelerator": "GPU"
  },
  "cells": [
    {
      "cell_type": "markdown",
      "metadata": {
        "id": "view-in-github",
        "colab_type": "text"
      },
      "source": [
        "<a href=\"https://colab.research.google.com/github/nitikshamodi/Mining-the-bitcoin-network/blob/master/Datascience_Project.ipynb\" target=\"_parent\"><img src=\"https://colab.research.google.com/assets/colab-badge.svg\" alt=\"Open In Colab\"/></a>"
      ]
    },
    {
      "cell_type": "code",
      "metadata": {
        "id": "cFIHOMjCTSxu",
        "colab_type": "code",
        "outputId": "135e633e-5f34-46c7-a834-3d3f756f395e",
        "colab": {
          "base_uri": "https://localhost:8080/",
          "height": 195
        }
      },
      "source": [
        "!pip install python-igraph"
      ],
      "execution_count": 0,
      "outputs": [
        {
          "output_type": "stream",
          "text": [
            "Collecting python-igraph\n",
            "\u001b[?25l  Downloading https://files.pythonhosted.org/packages/0f/a0/4e7134f803737aa6eebb4e5250565ace0e2599659e22be7f7eba520ff017/python-igraph-0.7.1.post6.tar.gz (377kB)\n",
            "\u001b[K    100% |████████████████████████████████| 378kB 31.6MB/s \n",
            "\u001b[?25hBuilding wheels for collected packages: python-igraph\n",
            "  Building wheel for python-igraph (setup.py) ... \u001b[?25ldone\n",
            "\u001b[?25h  Stored in directory: /root/.cache/pip/wheels/41/d6/02/34eebae97e25f5b87d60f4c0687e00523e3f244fa41bc3f4a7\n",
            "Successfully built python-igraph\n",
            "Installing collected packages: python-igraph\n",
            "Successfully installed python-igraph-0.7.1.post6\n"
          ],
          "name": "stdout"
        }
      ]
    },
    {
      "cell_type": "code",
      "metadata": {
        "id": "f5811kiLp0gY",
        "colab_type": "code",
        "colab": {}
      },
      "source": [
        "# !pip install pycairo"
      ],
      "execution_count": 0,
      "outputs": []
    },
    {
      "cell_type": "code",
      "metadata": {
        "id": "-qwqq2QgSChT",
        "colab_type": "code",
        "colab": {}
      },
      "source": [
        "import networkx as nx\n",
        "import numpy as np\n",
        "# import cairocffi\n",
        "import igraph as ig"
      ],
      "execution_count": 0,
      "outputs": []
    },
    {
      "cell_type": "code",
      "metadata": {
        "id": "Zagxq-2mS0Kk",
        "colab_type": "code",
        "outputId": "cdf8061e-b379-4852-e570-80ce716d9324",
        "colab": {
          "base_uri": "https://localhost:8080/",
          "height": 52
        }
      },
      "source": [
        "G = ig.Graph.Read_GraphML(\"2010_4.graphml\")\n",
        "ig.summary(G)"
      ],
      "execution_count": 0,
      "outputs": [
        {
          "output_type": "stream",
          "text": [
            "IGRAPH D-W- 3515 6618 -- \n",
            "+ attr: id (v), weight (e)\n"
          ],
          "name": "stdout"
        }
      ]
    },
    {
      "cell_type": "code",
      "metadata": {
        "id": "c37RtvX2c7At",
        "colab_type": "code",
        "colab": {}
      },
      "source": [
        "# largest = max(nx.strongly_connected_components(G), key=len)"
      ],
      "execution_count": 0,
      "outputs": []
    },
    {
      "cell_type": "code",
      "metadata": {
        "id": "CwEDA-d21eOr",
        "colab_type": "code",
        "colab": {}
      },
      "source": [
        "# G.es[\"weight\"]\n",
        "# G.vs[\"id\"]"
      ],
      "execution_count": 0,
      "outputs": []
    },
    {
      "cell_type": "code",
      "metadata": {
        "id": "BEZu4I3ETMdp",
        "colab_type": "code",
        "outputId": "944fff5b-2c02-4fee-ef96-aa627ed4c91a",
        "colab": {
          "base_uri": "https://localhost:8080/",
          "height": 34
        }
      },
      "source": [
        "G.vcount(), G.ecount()"
      ],
      "execution_count": 0,
      "outputs": [
        {
          "output_type": "execute_result",
          "data": {
            "text/plain": [
              "(3515, 6618)"
            ]
          },
          "metadata": {
            "tags": []
          },
          "execution_count": 7
        }
      ]
    },
    {
      "cell_type": "code",
      "metadata": {
        "id": "Fqlo9D6BZL6F",
        "colab_type": "code",
        "colab": {}
      },
      "source": [
        "ew = list(map(float, G.es[\"weight\"]))\n",
        "dendrogram = G.community_fastgreedy(weights = ew)\n",
        "# convert it into a flat clustering\n",
        "clusters = dendrogram.as_clustering()\n",
        "print(len(clusters))\n",
        "# get the membership vector\n",
        "membership = clusters.membership"
      ],
      "execution_count": 0,
      "outputs": []
    },
    {
      "cell_type": "code",
      "metadata": {
        "id": "MLqA2PhxZTYN",
        "colab_type": "code",
        "colab": {}
      },
      "source": [
        "import csv\n",
        "\n",
        "writer = csv.writer(open(\"output.csv\", \"wb\"))\n",
        "for name, membership in zip(G.vs[\"label\"], membership):\n",
        "    writer.writerow([name, membership])"
      ],
      "execution_count": 0,
      "outputs": []
    },
    {
      "cell_type": "code",
      "metadata": {
        "id": "DpgbjtdOnrLD",
        "colab_type": "code",
        "colab": {}
      },
      "source": [
        "G.es[\"weight\"]"
      ],
      "execution_count": 0,
      "outputs": []
    },
    {
      "cell_type": "code",
      "metadata": {
        "id": "bwgfTJvGpGiF",
        "colab_type": "code",
        "colab": {}
      },
      "source": [
        "for i in clusters:\n",
        "  print(i)\n",
        "  print(type(i))\n",
        "  break"
      ],
      "execution_count": 0,
      "outputs": []
    },
    {
      "cell_type": "code",
      "metadata": {
        "id": "ckwCSBQwzuHB",
        "colab_type": "code",
        "colab": {}
      },
      "source": [
        "dendrogram.optimal_count"
      ],
      "execution_count": 0,
      "outputs": []
    },
    {
      "cell_type": "code",
      "metadata": {
        "id": "ih6BP1Ubb5NG",
        "colab_type": "code",
        "colab": {}
      },
      "source": [
        "number_of_clusters = []\n",
        "for year in range(2009, 2011):\n",
        "    for month in range(1,13):\n",
        "      if year == 2009 and month == 1:\n",
        "        continue\n",
        "      G = ig.Graph.Read_GraphML(str(year) + \"_\" + str(month) + \".graphml\")\n",
        "      ew = list(map(float, G.es[\"weight\"]))\n",
        "      dendrogram = G.community_fastgreedy(weights = ew)\n",
        "      number_of_clusters.append(dendrogram.optimal_count)"
      ],
      "execution_count": 0,
      "outputs": []
    },
    {
      "cell_type": "code",
      "metadata": {
        "id": "O_vP8RC5ikAQ",
        "colab_type": "code",
        "outputId": "2ff5fe64-ecd0-4db3-93b3-c001d06eaaf8",
        "colab": {
          "base_uri": "https://localhost:8080/",
          "height": 301
        }
      },
      "source": [
        "import matplotlib.pyplot as plt\n",
        "plt.plot(range(2,25), number_of_clusters)\n",
        "plt.xlabel(\"Number of months passed since end of year 2008\")\n",
        "plt.ylabel(\"Number of clusters\")"
      ],
      "execution_count": 0,
      "outputs": [
        {
          "output_type": "execute_result",
          "data": {
            "text/plain": [
              "Text(0, 0.5, 'Number of clusters')"
            ]
          },
          "metadata": {
            "tags": []
          },
          "execution_count": 25
        },
        {
          "output_type": "display_data",
          "data": {
            "image/png": "[encoded data removed]",
            "text/plain": [
              "<Figure size 432x288 with 1 Axes>"
            ]
          },
          "metadata": {
            "tags": []
          }
        }
      ]
    },
    {
      "cell_type": "code",
      "metadata": {
        "id": "46XBzUlBlOPT",
        "colab_type": "code",
        "outputId": "629db1a9-0ea2-4ca0-f8f6-527cdc156384",
        "colab": {
          "base_uri": "https://localhost:8080/",
          "height": 53
        }
      },
      "source": [
        "G = ig.Graph.Read_GraphML(\"2010_12.graphml\")\n",
        "ig.summary(G)"
      ],
      "execution_count": 0,
      "outputs": [
        {
          "output_type": "stream",
          "text": [
            "IGRAPH U-W- 73553 118119 -- \n",
            "+ attr: id (v), weight (e)\n"
          ],
          "name": "stdout"
        }
      ]
    },
    {
      "cell_type": "code",
      "metadata": {
        "id": "_nVMz7_DlfLB",
        "colab_type": "code",
        "colab": {}
      },
      "source": [
        "avg_cluster_size = []\n",
        "for year in range(2009, 2011):\n",
        "    for month in range(1,13):\n",
        "      if year == 2009 and month == 1:\n",
        "        continue\n",
        "      G = ig.Graph.Read_GraphML(str(year) + \"_\" + str(month) + \".graphml\")\n",
        "      ew = list(map(float, G.es[\"weight\"]))\n",
        "      dendrogram = G.community_fastgreedy(weights = ew)\n",
        "      l = 0\n",
        "      clusters = dendrogram.as_clustering()\n",
        "      for i in clusters:\n",
        "        l += len(i)\n",
        "      avg_cluster_size.append(l/dendrogram.optimal_count)"
      ],
      "execution_count": 0,
      "outputs": []
    },
    {
      "cell_type": "code",
      "metadata": {
        "id": "e09K0WPUlnoN",
        "colab_type": "code",
        "outputId": "fbae043e-f4df-4197-94e9-5c09dfe5bb56",
        "colab": {
          "base_uri": "https://localhost:8080/",
          "height": 35
        }
      },
      "source": [
        "dendrogram.optimal_count"
      ],
      "execution_count": 0,
      "outputs": [
        {
          "output_type": "execute_result",
          "data": {
            "text/plain": [
              "1407"
            ]
          },
          "metadata": {
            "tags": []
          },
          "execution_count": 22
        }
      ]
    },
    {
      "cell_type": "code",
      "metadata": {
        "id": "D7SCme2ZmGV-",
        "colab_type": "code",
        "outputId": "76b60d69-c1de-4a1f-c7d6-45f69d7bd6c8",
        "colab": {
          "base_uri": "https://localhost:8080/",
          "height": 301
        }
      },
      "source": [
        "import matplotlib.pyplot as plt\n",
        "plt.plot(range(2,25), avg_cluster_size)\n",
        "plt.xlabel(\"Number of months passed since end of year 2008\")\n",
        "plt.ylabel(\"Avg cluster size\")"
      ],
      "execution_count": 0,
      "outputs": [
        {
          "output_type": "execute_result",
          "data": {
            "text/plain": [
              "Text(0, 0.5, 'Avg cluster size')"
            ]
          },
          "metadata": {
            "tags": []
          },
          "execution_count": 28
        },
        {
          "output_type": "display_data",
          "data": {
            "image/png": "[encoded data removed]",
            "text/plain": [
              "<Figure size 432x288 with 1 Axes>"
            ]
          },
          "metadata": {
            "tags": []
          }
        }
      ]
    },
    {
      "cell_type": "code",
      "metadata": {
        "id": "kKW-B58rn7cL",
        "colab_type": "code",
        "outputId": "85e06090-7280-42a2-af9f-3d77a9ee9b06",
        "colab": {
          "base_uri": "https://localhost:8080/",
          "height": 35
        }
      },
      "source": [
        "avg_cluster_size[14]"
      ],
      "execution_count": 0,
      "outputs": [
        {
          "output_type": "execute_result",
          "data": {
            "text/plain": [
              "25.845588235294116"
            ]
          },
          "metadata": {
            "tags": []
          },
          "execution_count": 33
        }
      ]
    },
    {
      "cell_type": "code",
      "metadata": {
        "id": "QPzhnX_2oj_g",
        "colab_type": "code",
        "colab": {}
      },
      "source": [
        "G = nx.read_graphml(\"2010_12.graphml\")\n"
      ],
      "execution_count": 0,
      "outputs": []
    },
    {
      "cell_type": "code",
      "metadata": {
        "id": "gD_N3N7Nsnhp",
        "colab_type": "code",
        "colab": {}
      },
      "source": [
        ""
      ],
      "execution_count": 0,
      "outputs": []
    }
  ]
}