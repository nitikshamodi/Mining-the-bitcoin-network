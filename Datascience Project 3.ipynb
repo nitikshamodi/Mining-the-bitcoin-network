{
 "cells": [
  {
   "cell_type": "markdown",
   "metadata": {},
   "source": [
    "## Code to create undirected simple graphs"
   ]
  },
  {
   "cell_type": "markdown",
   "metadata": {},
   "source": [
    "## graphs with self loops"
   ]
  },
  {
   "cell_type": "code",
   "execution_count": 1,
   "metadata": {},
   "outputs": [],
   "source": [
    "import networkx as nx\n",
    "import numpy as np"
   ]
  },
  {
   "cell_type": "code",
   "execution_count": 2,
   "metadata": {},
   "outputs": [
    {
     "name": "stdout",
     "output_type": "stream",
     "text": [
      "2 0 2009 1\n",
      "8 2 2009 2\n",
      "8 2 2009 3\n",
      "12 3 2009 4\n",
      "19 5 2009 5\n",
      "21 6 2009 6\n",
      "24 6 2009 7\n",
      "25 6 2009 8\n",
      "25 7 2009 9\n",
      "30 12 2009 10\n",
      "35 16 2009 11\n",
      "51 21 2009 12\n",
      "67 30 2010 1\n",
      "105 52 2010 2\n",
      "145 77 2010 3\n",
      "3515 6565 2010 4\n",
      "3744 6923 2010 5\n",
      "4407 7932 2010 6\n",
      "21652 33963 2010 7\n",
      "27572 42832 2010 8\n",
      "35493 55678 2010 9\n",
      "44716 72143 2010 10\n",
      "58543 96499 2010 11\n",
      "73553 117938 2010 12\n",
      "102375 169023 2011 1\n",
      "154531 252704 2011 2\n",
      "235040 400206 2011 3\n",
      "320660 582260 2011 4\n",
      "502030 972097 2011 5\n",
      "926342 1943509 2011 6\n",
      "1408276 2905320 2011 7\n",
      "1784883 3714878 2011 8\n",
      "2054950 4434945 2011 9\n",
      "2256466 4952451 2011 10\n",
      "2443383 5442121 2011 11\n",
      "2605279 5885991 2011 12\n"
     ]
    }
   ],
   "source": [
    "path = \"D:\\\\Academics\\\\Introduction to Data Science\\\\project\\\\data\\\\\"\n",
    "\n",
    "G_init = nx.Graph()\n",
    "d = {}\n",
    "for year in range(2009, 2012):\n",
    "    for month in range(1,13):\n",
    "        f1 = open(path +str(year)+\"\\\\\"+ 'outputs' + str(year) + '_' + str(month) + '.txt', 'r')\n",
    "        f = open(path +str(year)+\"\\\\\"+ 'inputs' + str(year) + '_' + str(month) + '.txt', 'r')\n",
    "        data = f1.readlines()\n",
    "        for trnx in data:\n",
    "            trnx = trnx[:-1].split(\"\\t\")\n",
    "            ind=0\n",
    "            for i in range(2, len(trnx), 2):\n",
    "                if G_init.has_edge(trnx[1], trnx[i]):\n",
    "                    G_init[trnx[1]][trnx[i]]['weight'] += float(trnx[i+1])/10**8\n",
    "                    d[(trnx[1], str(ind))] = [trnx[i], G_init[trnx[1]][trnx[i]]['weight']]\n",
    "                else:\n",
    "                    d[(trnx[1], str(ind))] = [trnx[i], float(trnx[i+1])/10**8]\n",
    "                    G_init.add_edge(trnx[1], trnx[i], weight = float(trnx[i+1])/10**8)\n",
    "                ind+=1\n",
    "        data = f.readlines()\n",
    "        for trnx in data:\n",
    "            trnx = trnx[:-1].split(\"\\t\")\n",
    "            in_addr_cost = []\n",
    "            f=0\n",
    "            for i in range(2, len(trnx), 2):\n",
    "                try:\n",
    "                    in_addr_cost.append(d[(trnx[i], trnx[i+1])])\n",
    "                except:\n",
    "                    f=1\n",
    "            neigh = list(G_init.neighbors(trnx[1]))\n",
    "            outcost = np.array([G_init[trnx[1]][v]['weight'] for v in neigh])\n",
    "            if f==1:\n",
    "                if in_addr_cost == []:\n",
    "                    in_addr_cost.append(['unknown', sum(outcost)])\n",
    "                else: \n",
    "                    s = sum(map(float, np.array(in_addr_cost)[:,1]))\n",
    "                    in_addr_cost.append(['unknown', sum(outcost)-s])\n",
    "\n",
    "            in_addr_cost = np.array(in_addr_cost).transpose()\n",
    "            s = sum(map(float, list(in_addr_cost[1])))\n",
    "            in_addr_cost[1] = np.array(list(map(float, in_addr_cost[1])))/s\n",
    "            G_init.remove_node(trnx[1])\n",
    "            for i in range(len(in_addr_cost[1])):\n",
    "                costs = float(in_addr_cost[1][0])*outcost\n",
    "                for j in range(len(neigh)):\n",
    "                    if in_addr_cost[0][i]!='noaddress' and in_addr_cost[0][i] !='unknown' and neigh[j]!='noaddress' and neigh[j]!='unknown'and in_addr_cost[0][i] != neigh[j]:\n",
    "                        if G_init.has_edge(in_addr_cost[0][i], neigh[j]):\n",
    "                            G_init[in_addr_cost[0][i]][neigh[j]]['weight'] += float(costs[j])\n",
    "                        else:\n",
    "                            G_init.add_edge(in_addr_cost[0][i], neigh[j], weight = float(costs[j]))\n",
    "\n",
    "        if('noaddress' in G_init):\n",
    "            G_init.remove_node('noaddress')\n",
    "        if('unknown' in G_init):\n",
    "            G_init.remove_node('unknown')\n",
    "        print(G_init.number_of_nodes(), G_init.number_of_edges(), year, month)\n",
    "        nx.write_graphml(G_init, path + \"UG_NSL_NME\\\\\" + str(year) + \"_\" + str(month) + \".graphml\")"
   ]
  },
  {
   "cell_type": "markdown",
   "metadata": {},
   "source": [
    "## Graphs with self loops"
   ]
  },
  {
   "cell_type": "code",
   "execution_count": 2,
   "metadata": {},
   "outputs": [],
   "source": [
    "path = \"D:\\\\Academics\\\\Introduction to Data Science\\\\project\\\\data\\\\\"\n",
    "nodes = [2, 8, 8, 12, 19, 21, 24, 25, 25, 30, 35, 51, 67, 105, 145, 3515, 3744, 4407, 21652, 27572, 35493, 44716, 58543, 73553,\n",
    "         102375, 154531, 235040, 320660, 502030, 926342, 1408276, 1784883, 2054950, 2256466, 2443383, 2605279]\n",
    "edges = [0, 3, 3, 4, 6, 7, 7, 7, 8, 14, 19, 24, 35, 59, 84, 6578, 6941, 7960, 34025, 42918, 55779, 72259, 96643, 118119, 169245, \n",
    "        252998, 400591, 582756, 972730, 1944436, 2906598, 3716491, 4436879, 4954600, 5444500, 5888648]\n",
    "x = []\n",
    "count = 1\n",
    "for year in range(2009, 2012):\n",
    "    for month in range(1,13):\n",
    "#         x.append(str(year) + \"_\" + str(month))\n",
    "        x.append(count)\n",
    "        count+=1"
   ]
  },
  {
   "cell_type": "code",
   "execution_count": 3,
   "metadata": {},
   "outputs": [
    {
     "data": {
      "text/plain": [
       "Text(0, 0.5, 'Number of nodes')"
      ]
     },
     "execution_count": 3,
     "metadata": {},
     "output_type": "execute_result"
    },
    {
     "data": {
      "image/png": "[encoded data removed]",
      "text/plain": [
       "<Figure size 432x288 with 1 Axes>"
      ]
     },
     "metadata": {
      "needs_background": "light"
     },
     "output_type": "display_data"
    }
   ],
   "source": [
    "import matplotlib.pyplot as plt\n",
    "plt.scatter(x, nodes)\n",
    "plt.xlabel(\"Number of months passed\")\n",
    "plt.ylabel(\"Number of nodes\")"
   ]
  },
  {
   "cell_type": "code",
   "execution_count": 4,
   "metadata": {},
   "outputs": [
    {
     "data": {
      "text/plain": [
       "Text(0, 0.5, 'Number of edges')"
      ]
     },
     "execution_count": 4,
     "metadata": {},
     "output_type": "execute_result"
    },
    {
     "data": {
      "image/png": "[encoded data removed]",
      "text/plain": [
       "<Figure size 432x288 with 1 Axes>"
      ]
     },
     "metadata": {
      "needs_background": "light"
     },
     "output_type": "display_data"
    }
   ],
   "source": [
    "plt.scatter(x, edges)\n",
    "plt.xlabel(\"Number of months passed\")\n",
    "plt.ylabel(\"Number of edges\")"
   ]
  },
  {
   "cell_type": "markdown",
   "metadata": {},
   "source": [
    "## Graphs without self loops"
   ]
  },
  {
   "cell_type": "code",
   "execution_count": 4,
   "metadata": {},
   "outputs": [],
   "source": [
    "nodes = [2, 8, 8, 12, 19, 21, 24, 25, 25, 30, 35, 51, 67, 105, 145, 3515, 3744, 4407, 21652, 27572, 35493, 44716, 58543, 73553,\n",
    "         102375, 154531, 235040, 320660, 502030, 926342, 1408276, 1784883, 2054950, 2256466, 2443383, 2605279]\n",
    "edges = [0, 2, 3, 3, 5, 6, 6, 6, 7, 12, 16, 21, 30, 52, 77, 6565, 6923, 7932, 33963, 42832, 55678, 72143, 96499, 117938, 169023, \n",
    "        252704, 400206, 582260, 972097, 1943509, 2905320, 3714878, 4434945, 4952451, 5442121, 5885991]\n",
    "\n",
    "x = []\n",
    "count = 1\n",
    "for year in range(2009, 2012):\n",
    "    for month in range(1,13):\n",
    "#         x.append(str(year) + \"_\" + str(month))\n",
    "        x.append(count)\n",
    "        count+=1"
   ]
  },
  {
   "cell_type": "code",
   "execution_count": 7,
   "metadata": {},
   "outputs": [
    {
     "data": {
      "text/plain": [
       "Text(0, 0.5, 'Number of nodes')"
      ]
     },
     "execution_count": 7,
     "metadata": {},
     "output_type": "execute_result"
    },
    {
     "data": {
      "image/png": "[encoded data removed]",
      "text/plain": [
       "<Figure size 432x288 with 1 Axes>"
      ]
     },
     "metadata": {
      "needs_background": "light"
     },
     "output_type": "display_data"
    }
   ],
   "source": [
    "import matplotlib.pyplot as plt\n",
    "plt.scatter(x, nodes)\n",
    "plt.xlabel(\"Number of months passed\")\n",
    "plt.ylabel(\"Number of nodes\")"
   ]
  },
  {
   "cell_type": "code",
   "execution_count": 6,
   "metadata": {},
   "outputs": [
    {
     "data": {
      "text/plain": [
       "Text(0, 0.5, 'Number of edges')"
      ]
     },
     "execution_count": 6,
     "metadata": {},
     "output_type": "execute_result"
    },
    {
     "data": {
      "image/png": "[encoded data removed]",
      "text/plain": [
       "<Figure size 432x288 with 1 Axes>"
      ]
     },
     "metadata": {
      "needs_background": "light"
     },
     "output_type": "display_data"
    }
   ],
   "source": [
    "plt.scatter(x, edges)\n",
    "plt.xlabel(\"Number of months passed\")\n",
    "plt.ylabel(\"Number of edges\")"
   ]
  },
  {
   "cell_type": "code",
   "execution_count": null,
   "metadata": {},
   "outputs": [],
   "source": []
  }
 ],
 "metadata": {
  "kernelspec": {
   "display_name": "Python 3",
   "language": "python",
   "name": "python3"
  },
  "language_info": {
   "codemirror_mode": {
    "name": "ipython",
    "version": 3
   },
   "file_extension": ".py",
   "mimetype": "text/x-python",
   "name": "python",
   "nbconvert_exporter": "python",
   "pygments_lexer": "ipython3",
   "version": "3.7.1"
  }
 },
 "nbformat": 4,
 "nbformat_minor": 2
}
