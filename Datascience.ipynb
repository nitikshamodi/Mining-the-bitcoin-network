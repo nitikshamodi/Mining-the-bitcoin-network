{
  "nbformat": 4,
  "nbformat_minor": 0,
  "metadata": {
    "colab": {
      "name": "Datascience",
      "version": "0.3.2",
      "provenance": [],
      "include_colab_link": true
    },
    "kernelspec": {
      "name": "python2",
      "display_name": "Python 2"
    },
    "accelerator": "GPU"
  },
  "cells": [
    {
      "cell_type": "markdown",
      "metadata": {
        "id": "view-in-github",
        "colab_type": "text"
      },
      "source": [
        "<a href=\"https://colab.research.google.com/github/nitikshamodi/Mining-the-bitcoin-network/blob/master/Datascience.ipynb\" target=\"_parent\"><img src=\"https://colab.research.google.com/assets/colab-badge.svg\" alt=\"Open In Colab\"/></a>"
      ]
    },
    {
      "cell_type": "code",
      "metadata": {
        "id": "zShg8mjVE0uJ",
        "colab_type": "code",
        "outputId": "d3daba43-00c7-4b3d-db86-2504d8487e92",
        "colab": {
          "base_uri": "https://localhost:8080/",
          "height": 34
        }
      },
      "source": [
        "!pip install python-igraph"
      ],
      "execution_count": 0,
      "outputs": [
        {
          "output_type": "stream",
          "text": [
            "Requirement already satisfied: python-igraph in /usr/local/lib/python2.7/dist-packages (0.7.1.post6)\n"
          ],
          "name": "stdout"
        }
      ]
    },
    {
      "cell_type": "code",
      "metadata": {
        "id": "ygq1HFaUE6A_",
        "colab_type": "code",
        "colab": {}
      },
      "source": [
        "import igraph as ig"
      ],
      "execution_count": 0,
      "outputs": []
    },
    {
      "cell_type": "code",
      "metadata": {
        "id": "WryWvspfIB6B",
        "colab_type": "code",
        "colab": {}
      },
      "source": [
        "G1 = ig.Graph.Read_GraphML(\"2010_8\") \n",
        "G2 = ig.Graph.Read_GraphML(\"2010_11\") \n",
        "G3 = ig.Graph.Read_GraphML(\"2011_2\") \n",
        "G4 = ig.Graph.Read_GraphML(\"2011_4\") "
      ],
      "execution_count": 0,
      "outputs": []
    },
    {
      "cell_type": "code",
      "metadata": {
        "id": "PW5VPX3VE7ub",
        "colab_type": "code",
        "colab": {}
      },
      "source": [
        "cl1 = G1.community_fastgreedy(weights = G1.es['weight']).as_clustering()\n",
        "cl2 = G2.community_fastgreedy(weights = G2.es['weight']).as_clustering()\n",
        "cl3 = G3.community_fastgreedy(weights = G3.es['weight']).as_clustering()\n",
        "cl4 = G4.community_fastgreedy(weights = G4.es['weight']).as_clustering()"
      ],
      "execution_count": 0,
      "outputs": []
    },
    {
      "cell_type": "code",
      "metadata": {
        "id": "V299PiwmIjBd",
        "colab_type": "code",
        "outputId": "4333e0e1-65b1-4e4a-e221-5624364332b1",
        "colab": {
          "base_uri": "https://localhost:8080/",
          "height": 1082
        }
      },
      "source": [
        "import matplotlib.pyplot as plt\n",
        "\n",
        "size1 = []\n",
        "size2 = []\n",
        "size3 = []\n",
        "size4 = []\n",
        "\n",
        "clusters1 = []\n",
        "clusters2 = []\n",
        "clusters3 = []\n",
        "clusters4 = []\n",
        "\n",
        "for i in cl1:\n",
        "  if len(i)>20:\n",
        "    size1.append(len(i))\n",
        "    clusters1.append(i)  \n",
        "plt.ylabel(\"Frequency\")\n",
        "plt.xlabel(\"Size of cluster\")\n",
        "plt.hist(size1)\n",
        "plt.show()\n",
        "\n",
        "for i in cl2:\n",
        "  if len(i)>20:\n",
        "    size2.append(len(i))\n",
        "    clusters2.append(i)\n",
        "plt.ylabel(\"Frequency\")\n",
        "plt.xlabel(\"Size of cluster\")\n",
        "plt.hist(size2)\n",
        "plt.show()\n",
        "\n",
        "for i in cl3:\n",
        "  if len(i)>20:\n",
        "    size3.append(len(i))\n",
        "    clusters3.append(i)\n",
        "plt.ylabel(\"Frequency\")\n",
        "plt.xlabel(\"Size of cluster\")\n",
        "plt.hist(size3)\n",
        "plt.show()\n",
        "\n",
        "for i in cl4:\n",
        "  if len(i)>20:\n",
        "    size4.append(len(i))\n",
        "    clusters4.append(i)\n",
        "plt.ylabel(\"Frequency\")\n",
        "plt.xlabel(\"Size of cluster\")\n",
        "plt.hist(size4)\n",
        "plt.show()"
      ],
      "execution_count": 0,
      "outputs": [
        {
          "output_type": "display_data",
          "data": {
            "image/png": "[encoded data removed]",
            "text/plain": [
              "<Figure size 432x288 with 1 Axes>"
            ]
          },
          "metadata": {
            "tags": []
          }
        },
        {
          "output_type": "display_data",
          "data": {
            "image/png": "[encoded data removed]",
            "text/plain": [
              "<Figure size 432x288 with 1 Axes>"
            ]
          },
          "metadata": {
            "tags": []
          }
        },
        {
          "output_type": "display_data",
          "data": {
            "image/png": "[encoded data removed]",
            "text/plain": [
              "<Figure size 432x288 with 1 Axes>"
            ]
          },
          "metadata": {
            "tags": []
          }
        },
        {
          "output_type": "display_data",
          "data": {
            "image/png": "[encoded data removed]",
            "text/plain": [
              "<Figure size 432x288 with 1 Axes>"
            ]
          },
          "metadata": {
            "tags": []
          }
        }
      ]
    },
    {
      "cell_type": "code",
      "metadata": {
        "id": "2wzjvGnoI7BT",
        "colab_type": "code",
        "colab": {}
      },
      "source": [
        "def match(c1, c2):\n",
        "  c1 = set(c1)\n",
        "  c2 = set(c2)\n",
        "  return len(c1.intersection(c2))/float(len(c1))"
      ],
      "execution_count": 0,
      "outputs": []
    },
    {
      "cell_type": "code",
      "metadata": {
        "id": "tbfHSZowLacr",
        "colab_type": "code",
        "colab": {}
      },
      "source": [
        "def best_match(c, t):\n",
        "  m = -1\n",
        "  mcluster = []\n",
        "  for i in t:\n",
        "    v = match(c, i)\n",
        "    if v>m:\n",
        "      m = v\n",
        "      mcluster = i\n",
        "  return m, mcluster"
      ],
      "execution_count": 0,
      "outputs": []
    },
    {
      "cell_type": "code",
      "metadata": {
        "id": "9zTSRP9z3Z0G",
        "colab_type": "code",
        "colab": {}
      },
      "source": [
        "frac = 0.96"
      ],
      "execution_count": 0,
      "outputs": []
    },
    {
      "cell_type": "code",
      "metadata": {
        "id": "VFhxe2G8LcRx",
        "colab_type": "code",
        "outputId": "edf31a75-c0b4-4d55-f85a-3f4ab55c07c4",
        "colab": {
          "base_uri": "https://localhost:8080/",
          "height": 354
        }
      },
      "source": [
        "d = {}\n",
        "dc = {}\n",
        "ite = 0\n",
        "for c in list(clusters1):\n",
        "    if ite%40==0:\n",
        "      print(ite)\n",
        "    bmv, _ = best_match(c, clusters2)\n",
        "    try:\n",
        "      d[len(c)] += bmv\n",
        "      dc[len(c)] += 1\n",
        "    except:\n",
        "      d[len(c)] = bmv\n",
        "      dc[len(c)] = 1\n",
        "    ite+=1\n",
        "    \n",
        "size = d.keys()\n",
        "size = sorted(list(size))\n",
        "bmv_arr = []\n",
        "for i in size:\n",
        "  bmv_arr.append(float(d[i])/dc[i])\n",
        "plt.ylabel(\"Best match value\")\n",
        "plt.xlabel(\"Size of cluster\")\n",
        "plt.scatter(size, bmv_arr)"
      ],
      "execution_count": 0,
      "outputs": [
        {
          "output_type": "stream",
          "text": [
            "0\n",
            "40\n",
            "80\n"
          ],
          "name": "stdout"
        },
        {
          "output_type": "execute_result",
          "data": {
            "text/plain": [
              "<matplotlib.collections.PathCollection at 0x7f6be9290890>"
            ]
          },
          "metadata": {
            "tags": []
          },
          "execution_count": 9
        },
        {
          "output_type": "display_data",
          "data": {
            "image/png": "[encoded data removed]",
            "text/plain": [
              "<Figure size 432x288 with 1 Axes>"
            ]
          },
          "metadata": {
            "tags": []
          }
        }
      ]
    },
    {
      "cell_type": "code",
      "metadata": {
        "id": "8OXSd-OeTO73",
        "colab_type": "code",
        "outputId": "82d2df6e-7889-4a31-96e1-6f6a671ebf3b",
        "colab": {
          "base_uri": "https://localhost:8080/",
          "height": 70
        }
      },
      "source": [
        "ite = 0\n",
        "clusters2_ = []\n",
        "clusters2_all = []\n",
        "for c in list(clusters1):\n",
        "    if ite%40==0:\n",
        "      print(ite)\n",
        "    bmv, cluster = best_match(c, clusters2)\n",
        "    if bmv>frac:\n",
        "      clusters2_.append(cluster)\n",
        "    else:\n",
        "      clusters2_.append(\"-1\")\n",
        "    clusters2_all.append(cluster)\n",
        "    ite+=1"
      ],
      "execution_count": 0,
      "outputs": [
        {
          "output_type": "stream",
          "text": [
            "0\n",
            "40\n",
            "80\n"
          ],
          "name": "stdout"
        }
      ]
    },
    {
      "cell_type": "code",
      "metadata": {
        "id": "8Z8B8L8nZFh3",
        "colab_type": "code",
        "outputId": "ea68bc21-768b-4e5c-b2d0-9120336c1ce2",
        "colab": {
          "base_uri": "https://localhost:8080/",
          "height": 638
        }
      },
      "source": [
        "d = {}\n",
        "dc = {}\n",
        "ite = 0\n",
        "for c in list(clusters2_all):\n",
        "    if ite%40==0:\n",
        "      print(ite)\n",
        "    bmv, _ = best_match(c, clusters3)\n",
        "    try:\n",
        "      d[len(c)] += bmv\n",
        "      dc[len(c)] += 1\n",
        "    except:\n",
        "      d[len(c)] = bmv\n",
        "      dc[len(c)] = 1\n",
        "    ite+=1\n",
        "    \n",
        "size = d.keys()\n",
        "size = sorted(list(size))\n",
        "bmv_arr = []\n",
        "for i in size:\n",
        "  bmv_arr.append(float(d[i])/dc[i])\n",
        "plt.ylabel(\"Best match value\")\n",
        "plt.xlabel(\"Size of cluster\")\n",
        "plt.scatter(size, bmv_arr)\n",
        "plt.show()\n",
        "\n",
        "d = {}\n",
        "dc = {}\n",
        "ite = 0\n",
        "for c in list(clusters2_):\n",
        "    if c == \"-1\":\n",
        "      continue\n",
        "    if ite%40==0:\n",
        "      print(ite)\n",
        "    bmv, _ = best_match(c, clusters3)\n",
        "    try:\n",
        "      d[len(c)] += bmv\n",
        "      dc[len(c)] += 1\n",
        "    except:\n",
        "      d[len(c)] = bmv\n",
        "      dc[len(c)] = 1\n",
        "    ite+=1\n",
        "    \n",
        "size = d.keys()\n",
        "size = sorted(list(size))\n",
        "bmv_arr = []\n",
        "for i in size:\n",
        "  bmv_arr.append(float(d[i])/dc[i])\n",
        "plt.ylabel(\"Best match value\")\n",
        "plt.xlabel(\"Size of cluster\")\n",
        "plt.scatter(size, bmv_arr)\n",
        "plt.show()"
      ],
      "execution_count": 0,
      "outputs": [
        {
          "output_type": "stream",
          "text": [
            "0\n",
            "40\n",
            "80\n"
          ],
          "name": "stdout"
        },
        {
          "output_type": "display_data",
          "data": {
            "image/png": "[encoded data removed]",
            "text/plain": [
              "<Figure size 432x288 with 1 Axes>"
            ]
          },
          "metadata": {
            "tags": []
          }
        },
        {
          "output_type": "stream",
          "text": [
            "0\n",
            "40\n"
          ],
          "name": "stdout"
        },
        {
          "output_type": "display_data",
          "data": {
            "image/png": "[encoded data removed]",
            "text/plain": [
              "<Figure size 432x288 with 1 Axes>"
            ]
          },
          "metadata": {
            "tags": []
          }
        }
      ]
    },
    {
      "cell_type": "code",
      "metadata": {
        "id": "GSwyNfF3ZMrk",
        "colab_type": "code",
        "outputId": "f683e78b-423f-457e-9d8d-ec2eb54b2a66",
        "colab": {
          "base_uri": "https://localhost:8080/",
          "height": 70
        }
      },
      "source": [
        "ite = 0\n",
        "clusters3_ = []\n",
        "clusters3_all = []\n",
        "for c in list(clusters2_):\n",
        "    if ite%40==0:\n",
        "      print(ite)\n",
        "    bmv = 0\n",
        "    cluster = \"-1\"\n",
        "    if c!=\"-1\":\n",
        "      bmv, cluster = best_match(c, clusters3)\n",
        "    if bmv>frac:\n",
        "      clusters3_.append(cluster)\n",
        "    else:\n",
        "      clusters3_.append(\"-1\")\n",
        "    clusters3_all.append(cluster)\n",
        "    ite+=1"
      ],
      "execution_count": 0,
      "outputs": [
        {
          "output_type": "stream",
          "text": [
            "0\n",
            "40\n",
            "80\n"
          ],
          "name": "stdout"
        }
      ]
    },
    {
      "cell_type": "code",
      "metadata": {
        "id": "vMbsPhx5awuR",
        "colab_type": "code",
        "outputId": "7708180c-d052-4dbd-e050-10683e014d02",
        "colab": {
          "base_uri": "https://localhost:8080/",
          "height": 602
        }
      },
      "source": [
        "d = {}\n",
        "dc = {}\n",
        "ite = 0\n",
        "for c in list(clusters3_all):\n",
        "    if c==\"-1\":\n",
        "      continue\n",
        "    if ite%40==0:\n",
        "      print(ite)\n",
        "    bmv, _ = best_match(c, clusters4)\n",
        "    try:\n",
        "      d[len(c)] += bmv\n",
        "      dc[len(c)] += 1\n",
        "    except:\n",
        "      d[len(c)] = bmv\n",
        "      dc[len(c)] = 1\n",
        "    ite+=1\n",
        "    \n",
        "size = d.keys()\n",
        "size = sorted(list(size))\n",
        "bmv_arr = []\n",
        "\n",
        "for i in size:\n",
        "  bmv_arr.append(float(d[i])/dc[i])\n",
        "plt.ylabel(\"Best match value\")\n",
        "plt.xlabel(\"Size of cluster\")\n",
        "plt.scatter(size, bmv_arr)\n",
        "plt.show()\n",
        "\n",
        "d = {}\n",
        "dc = {}\n",
        "ite = 0\n",
        "for c in list(clusters3_):\n",
        "    if c==\"-1\":\n",
        "      continue\n",
        "    if ite%40==0:\n",
        "      print(ite)\n",
        "    bmv, _ = best_match(c, clusters4)\n",
        "    try:\n",
        "      d[len(c)] += bmv\n",
        "      dc[len(c)] += 1\n",
        "    except:\n",
        "      d[len(c)] = bmv\n",
        "      dc[len(c)] = 1\n",
        "    ite+=1\n",
        "    \n",
        "size = d.keys()\n",
        "size = sorted(list(size))\n",
        "bmv_arr = []\n",
        "\n",
        "for i in size:\n",
        "  bmv_arr.append(float(d[i])/dc[i])\n",
        "plt.ylabel(\"Best match value\")\n",
        "plt.xlabel(\"Size of cluster\")\n",
        "plt.scatter(size, bmv_arr)\n",
        "plt.show()"
      ],
      "execution_count": 0,
      "outputs": [
        {
          "output_type": "stream",
          "text": [
            "0\n",
            "40\n"
          ],
          "name": "stdout"
        },
        {
          "output_type": "display_data",
          "data": {
            "image/png": "[encoded data removed]",
            "text/plain": [
              "<Figure size 432x288 with 1 Axes>"
            ]
          },
          "metadata": {
            "tags": []
          }
        },
        {
          "output_type": "stream",
          "text": [
            "0\n"
          ],
          "name": "stdout"
        },
        {
          "output_type": "display_data",
          "data": {
            "image/png": "[encoded data removed]",
            "text/plain": [
              "<Figure size 432x288 with 1 Axes>"
            ]
          },
          "metadata": {
            "tags": []
          }
        }
      ]
    },
    {
      "cell_type": "code",
      "metadata": {
        "id": "CZnxjfdLM5oU",
        "colab_type": "code",
        "outputId": "2fa18f53-7d4c-4f57-c1db-a46352ec021d",
        "colab": {
          "base_uri": "https://localhost:8080/",
          "height": 70
        }
      },
      "source": [
        "ite = 0\n",
        "clusters4_ = []\n",
        "clusters4_all = []\n",
        "for c in list(clusters3_):\n",
        "    if ite%40==0:\n",
        "      print(ite)\n",
        "    bmv = 0\n",
        "    cluster = \"-1\"\n",
        "    if c!=\"-1\":\n",
        "      bmv, cluster = best_match(c, clusters3)\n",
        "    if bmv>frac:\n",
        "      clusters4_.append(cluster)\n",
        "    else:\n",
        "      clusters4_.append(\"-1\")\n",
        "    clusters4_all.append(cluster)\n",
        "    ite+=1"
      ],
      "execution_count": 0,
      "outputs": [
        {
          "output_type": "stream",
          "text": [
            "0\n",
            "40\n",
            "80\n"
          ],
          "name": "stdout"
        }
      ]
    },
    {
      "cell_type": "code",
      "metadata": {
        "id": "xnB2m-SnbqDC",
        "colab_type": "code",
        "outputId": "149ac720-782d-46b5-aa06-7cb9d3b54456",
        "colab": {
          "base_uri": "https://localhost:8080/",
          "height": 34
        }
      },
      "source": [
        "len(clusters4_)"
      ],
      "execution_count": 0,
      "outputs": [
        {
          "output_type": "execute_result",
          "data": {
            "text/plain": [
              "92"
            ]
          },
          "metadata": {
            "tags": []
          },
          "execution_count": 15
        }
      ]
    },
    {
      "cell_type": "code",
      "metadata": {
        "id": "06FIRPhEbszx",
        "colab_type": "code",
        "outputId": "53d3fcdb-b1b0-4044-9ff8-0087ad82047a",
        "colab": {
          "base_uri": "https://localhost:8080/",
          "height": 1636
        }
      },
      "source": [
        "for i in range(len(clusters4_)):\n",
        "  a =0 \n",
        "  b=0\n",
        "  c=0\n",
        "  d=0\n",
        "  if clusters1[i] == \"-1\":\n",
        "    a = \"-1\"\n",
        "  else:\n",
        "    a = 0\n",
        "  if clusters2_[i] == \"-1\":\n",
        "    b = \"-1\"\n",
        "  else:\n",
        "    b = 0\n",
        "  if clusters3_[i] == \"-1\":\n",
        "    c = \"-1\"\n",
        "  else:\n",
        "    c = 0\n",
        "  if clusters4_[i] == \"-1\":\n",
        "    d = \"-1\"\n",
        "  else:\n",
        "    d = 0\n",
        "  print(a,b,c,d)"
      ],
      "execution_count": 0,
      "outputs": [
        {
          "output_type": "stream",
          "text": [
            "(0, '-1', '-1', '-1')\n",
            "(0, '-1', '-1', '-1')\n",
            "(0, '-1', '-1', '-1')\n",
            "(0, '-1', '-1', '-1')\n",
            "(0, '-1', '-1', '-1')\n",
            "(0, 0, 0, 0)\n",
            "(0, '-1', '-1', '-1')\n",
            "(0, 0, 0, 0)\n",
            "(0, '-1', '-1', '-1')\n",
            "(0, '-1', '-1', '-1')\n",
            "(0, 0, 0, 0)\n",
            "(0, 0, 0, 0)\n",
            "(0, 0, 0, 0)\n",
            "(0, 0, 0, 0)\n",
            "(0, 0, 0, 0)\n",
            "(0, 0, 0, 0)\n",
            "(0, 0, '-1', '-1')\n",
            "(0, '-1', '-1', '-1')\n",
            "(0, '-1', '-1', '-1')\n",
            "(0, '-1', '-1', '-1')\n",
            "(0, 0, '-1', '-1')\n",
            "(0, '-1', '-1', '-1')\n",
            "(0, '-1', '-1', '-1')\n",
            "(0, '-1', '-1', '-1')\n",
            "(0, '-1', '-1', '-1')\n",
            "(0, 0, '-1', '-1')\n",
            "(0, 0, '-1', '-1')\n",
            "(0, '-1', '-1', '-1')\n",
            "(0, '-1', '-1', '-1')\n",
            "(0, '-1', '-1', '-1')\n",
            "(0, '-1', '-1', '-1')\n",
            "(0, 0, '-1', '-1')\n",
            "(0, 0, 0, 0)\n",
            "(0, '-1', '-1', '-1')\n",
            "(0, 0, '-1', '-1')\n",
            "(0, '-1', '-1', '-1')\n",
            "(0, 0, 0, 0)\n",
            "(0, '-1', '-1', '-1')\n",
            "(0, '-1', '-1', '-1')\n",
            "(0, 0, 0, 0)\n",
            "(0, 0, 0, 0)\n",
            "(0, 0, 0, 0)\n",
            "(0, 0, '-1', '-1')\n",
            "(0, '-1', '-1', '-1')\n",
            "(0, 0, 0, 0)\n",
            "(0, 0, 0, 0)\n",
            "(0, '-1', '-1', '-1')\n",
            "(0, '-1', '-1', '-1')\n",
            "(0, '-1', '-1', '-1')\n",
            "(0, '-1', '-1', '-1')\n",
            "(0, '-1', '-1', '-1')\n",
            "(0, 0, 0, 0)\n",
            "(0, 0, 0, 0)\n",
            "(0, 0, '-1', '-1')\n",
            "(0, '-1', '-1', '-1')\n",
            "(0, 0, 0, 0)\n",
            "(0, '-1', '-1', '-1')\n",
            "(0, 0, 0, 0)\n",
            "(0, '-1', '-1', '-1')\n",
            "(0, '-1', '-1', '-1')\n",
            "(0, '-1', '-1', '-1')\n",
            "(0, 0, 0, 0)\n",
            "(0, '-1', '-1', '-1')\n",
            "(0, 0, '-1', '-1')\n",
            "(0, '-1', '-1', '-1')\n",
            "(0, '-1', '-1', '-1')\n",
            "(0, 0, '-1', '-1')\n",
            "(0, '-1', '-1', '-1')\n",
            "(0, '-1', '-1', '-1')\n",
            "(0, '-1', '-1', '-1')\n",
            "(0, '-1', '-1', '-1')\n",
            "(0, 0, 0, 0)\n",
            "(0, 0, '-1', '-1')\n",
            "(0, '-1', '-1', '-1')\n",
            "(0, 0, 0, 0)\n",
            "(0, '-1', '-1', '-1')\n",
            "(0, 0, 0, 0)\n",
            "(0, '-1', '-1', '-1')\n",
            "(0, '-1', '-1', '-1')\n",
            "(0, 0, 0, 0)\n",
            "(0, 0, '-1', '-1')\n",
            "(0, '-1', '-1', '-1')\n",
            "(0, '-1', '-1', '-1')\n",
            "(0, 0, 0, 0)\n",
            "(0, 0, '-1', '-1')\n",
            "(0, '-1', '-1', '-1')\n",
            "(0, 0, '-1', '-1')\n",
            "(0, 0, 0, 0)\n",
            "(0, '-1', '-1', '-1')\n",
            "(0, 0, '-1', '-1')\n",
            "(0, 0, '-1', '-1')\n",
            "(0, '-1', '-1', '-1')\n"
          ],
          "name": "stdout"
        }
      ]
    },
    {
      "cell_type": "code",
      "metadata": {
        "id": "ArTRROd6o41Z",
        "colab_type": "code",
        "colab": {}
      },
      "source": [
        "clusters1_id = {}\n",
        "clusters2_id = {}\n",
        "clusters3_id = {}\n",
        "clusters4_id = {}\n",
        "\n",
        "c = 0\n",
        "for i in range(len(clusters1)):\n",
        "  if clusters1[i] != \"-1\":\n",
        "    clusters1_id[tuple(sorted(clusters1[i]))] = c\n",
        "  else:\n",
        "    clusters1_id[tuple(sorted(clusters1[i]))] = \"-1\"\n",
        "    \n",
        "  if clusters2_[i] != \"-1\":\n",
        "    clusters2_id[tuple(sorted(clusters2_[i]))] = c\n",
        "  else:\n",
        "    clusters2_id[tuple(sorted(clusters2_[i]))] = \"-1\"\n",
        "    \n",
        "  if clusters3_[i] != \"-1\":\n",
        "    clusters3_id[tuple(sorted(clusters3_[i]))] = c\n",
        "  else:\n",
        "    clusters3_id[tuple(sorted(clusters3_[i]))] = \"-1\"\n",
        "    \n",
        "  if clusters4_[i] != \"-1\":\n",
        "    clusters4_id[tuple(sorted(clusters4_[i]))] = c\n",
        "  else:\n",
        "    clusters4_id[tuple(sorted(clusters4_[i]))] = \"-1\"\n",
        "  c+=1"
      ],
      "execution_count": 0,
      "outputs": []
    },
    {
      "cell_type": "code",
      "metadata": {
        "id": "vSMjkFWjuM1I",
        "colab_type": "code",
        "outputId": "21cff9d2-fb0f-4df3-87e0-1e948ac7574d",
        "colab": {
          "base_uri": "https://localhost:8080/",
          "height": 1636
        }
      },
      "source": [
        "for i in range(len(clusters1)):\n",
        "  print(clusters1_id[tuple(clusters1[i])], clusters2_id[tuple(clusters2_[i])], clusters3_id[tuple(clusters3_[i])], clusters4_id[tuple(clusters4_[i])])"
      ],
      "execution_count": 0,
      "outputs": [
        {
          "output_type": "stream",
          "text": [
            "(0, '-1', '-1', '-1')\n",
            "(1, '-1', '-1', '-1')\n",
            "(2, '-1', '-1', '-1')\n",
            "(3, '-1', '-1', '-1')\n",
            "(4, '-1', '-1', '-1')\n",
            "(5, 5, 5, 5)\n",
            "(6, '-1', '-1', '-1')\n",
            "(7, 7, 7, 7)\n",
            "(8, '-1', '-1', '-1')\n",
            "(9, '-1', '-1', '-1')\n",
            "(10, 10, 10, 10)\n",
            "(11, 11, 11, 11)\n",
            "(12, 12, 12, 12)\n",
            "(13, 13, 13, 13)\n",
            "(14, 14, 14, 14)\n",
            "(15, 15, 15, 15)\n",
            "(16, 16, '-1', '-1')\n",
            "(17, '-1', '-1', '-1')\n",
            "(18, '-1', '-1', '-1')\n",
            "(19, '-1', '-1', '-1')\n",
            "(20, 20, '-1', '-1')\n",
            "(21, '-1', '-1', '-1')\n",
            "(22, '-1', '-1', '-1')\n",
            "(23, '-1', '-1', '-1')\n",
            "(24, '-1', '-1', '-1')\n",
            "(25, 25, '-1', '-1')\n",
            "(26, 26, '-1', '-1')\n",
            "(27, '-1', '-1', '-1')\n",
            "(28, '-1', '-1', '-1')\n",
            "(29, '-1', '-1', '-1')\n",
            "(30, '-1', '-1', '-1')\n",
            "(31, 31, '-1', '-1')\n",
            "(32, 32, 32, 32)\n",
            "(33, '-1', '-1', '-1')\n",
            "(34, 34, '-1', '-1')\n",
            "(35, '-1', '-1', '-1')\n",
            "(36, 36, 36, 36)\n",
            "(37, '-1', '-1', '-1')\n",
            "(38, '-1', '-1', '-1')\n",
            "(39, 39, 39, 39)\n",
            "(40, 40, 40, 40)\n",
            "(41, 51, 51, 51)\n",
            "(42, 42, '-1', '-1')\n",
            "(43, '-1', '-1', '-1')\n",
            "(44, 45, 45, 45)\n",
            "(45, 45, 45, 45)\n",
            "(46, '-1', '-1', '-1')\n",
            "(47, '-1', '-1', '-1')\n",
            "(48, '-1', '-1', '-1')\n",
            "(49, '-1', '-1', '-1')\n",
            "(50, '-1', '-1', '-1')\n",
            "(51, 51, 51, 51)\n",
            "(52, 52, 52, 52)\n",
            "(53, 66, '-1', '-1')\n",
            "(54, '-1', '-1', '-1')\n",
            "(55, 55, 55, 55)\n",
            "(56, '-1', '-1', '-1')\n",
            "(57, 57, 57, 57)\n",
            "(58, '-1', '-1', '-1')\n",
            "(59, '-1', '-1', '-1')\n",
            "(60, '-1', '-1', '-1')\n",
            "(61, 61, 61, 61)\n",
            "(62, '-1', '-1', '-1')\n",
            "(63, 63, '-1', '-1')\n",
            "(64, '-1', '-1', '-1')\n",
            "(65, '-1', '-1', '-1')\n",
            "(66, 66, '-1', '-1')\n",
            "(67, '-1', '-1', '-1')\n",
            "(68, '-1', '-1', '-1')\n",
            "(69, '-1', '-1', '-1')\n",
            "(70, '-1', '-1', '-1')\n",
            "(71, 71, 71, 71)\n",
            "(72, 72, '-1', '-1')\n",
            "(73, '-1', '-1', '-1')\n",
            "(74, 74, 74, 74)\n",
            "(75, '-1', '-1', '-1')\n",
            "(76, 76, 76, 76)\n",
            "(77, '-1', '-1', '-1')\n",
            "(78, '-1', '-1', '-1')\n",
            "(79, 79, 79, 79)\n",
            "(80, 80, '-1', '-1')\n",
            "(81, '-1', '-1', '-1')\n",
            "(82, '-1', '-1', '-1')\n",
            "(83, 83, 83, 83)\n",
            "(84, 84, '-1', '-1')\n",
            "(85, '-1', '-1', '-1')\n",
            "(86, 86, '-1', '-1')\n",
            "(87, 87, 87, 87)\n",
            "(88, '-1', '-1', '-1')\n",
            "(89, 89, '-1', '-1')\n",
            "(90, 90, '-1', '-1')\n",
            "(91, '-1', '-1', '-1')\n"
          ],
          "name": "stdout"
        }
      ]
    },
    {
      "cell_type": "code",
      "metadata": {
        "id": "xM-ugUBGwhhH",
        "colab_type": "code",
        "outputId": "dd1800f7-ca0f-410b-c48c-ea6b10cc5fc1",
        "colab": {
          "base_uri": "https://localhost:8080/",
          "height": 474
        }
      },
      "source": [
        "for i in range(len(clusters1)):\n",
        "  if clusters1[i] != \"-1\" and clusters2_[i] != \"-1\" and clusters3_[i] != \"-1\" and clusters4_[i] != \"-1\":\n",
        "    subG = G1.induced_subgraph(clusters1[i])\n",
        "    w1 = sum(subG.es['weight'])\n",
        "    v1 = subG.vcount()\n",
        "    subG = G2.induced_subgraph(clusters2_[i])\n",
        "    w2 = sum(subG.es['weight'])\n",
        "    v2 = subG.vcount()\n",
        "    subG = G3.induced_subgraph(clusters3_[i])\n",
        "    w3 = sum(subG.es['weight'])\n",
        "    v3 = subG.vcount()\n",
        "    subG = G4.induced_subgraph(clusters4_[i])\n",
        "    w4 = sum(subG.es['weight'])\n",
        "    v4 = subG.vcount()\n",
        "#     print(v1, v2, v3, v4)\n",
        "    print(w1, w2, w3, w4)"
      ],
      "execution_count": 0,
      "outputs": [
        {
          "output_type": "stream",
          "text": [
            "(39860.42334760924, 60895.533198910365, 107554.18622452243, 107554.18622452243)\n",
            "(8822.710000000003, 8822.710000000003, 8822.710000000003, 8882.710000000003)\n",
            "(4995.000000000005, 4995.000000000005, 4995.000000000005, 4995.000000000005)\n",
            "(17708.22, 17708.22, 17708.22, 17708.22)\n",
            "(448.5000000000002, 448.5000000000002, 448.5000000000002, 448.5000000000002)\n",
            "(1797.0000000000007, 1797.0000000000007, 1797.0000000000007, 1797.0000000000007)\n",
            "(57316.285753778815, 57322.05645441576, 57322.05645441576, 57322.05645441576)\n",
            "(797.9999999999992, 797.9999999999992, 797.9999999999992, 797.9999999999992)\n",
            "(105770.81, 137653.03399999999, 209776.93399999998, 209776.93399999998)\n",
            "(13688.160000000002, 18968.61, 27640.020000000008, 27640.020000000008)\n",
            "(3188.019999999998, 3188.019999999998, 3188.019999999998, 3188.019999999998)\n",
            "(45217.08378378379, 45217.08378378379, 45212.08378378379, 45212.08378378379)\n",
            "(14656.509886246115, 17211.009886246124, 17211.009886246124, 17211.009886246124)\n",
            "(54511.8, 100046.14365020528, 100014.88, 100014.88)\n",
            "(44801.91365020527, 100046.14365020528, 100014.88, 100014.88)\n",
            "(2548.5, 17211.009886246124, 17211.009886246124, 17211.009886246124)\n",
            "(19919.009999999875, 20263.799999999872, 19918.739999999878, 19918.739999999878)\n",
            "(15008.800000000008, 23092.829999999994, 43705.69000000004, 43705.69000000004)\n",
            "(172691.0, 257354.0, 360970.79, 360970.79)\n",
            "(19235.43, 20377.93, 20390.55970307495, 20390.55970307495)\n",
            "(4598.905303537119, 4598.825303537119, 5842.6602054979, 5842.6602054979)\n",
            "(26300.638, 75990.76380327511, 105221.82848681943, 105224.32848681943)\n",
            "(48.50999999999998, 48.50999999999998, 48.50999999999998, 48.50999999999998)\n",
            "(25119.08, 25001.06, 25006.06, 25006.06)\n",
            "(229.32999999999998, 229.32999999999998, 229.32999999999998, 229.32999999999998)\n",
            "(30605.23, 47444.10560000001, 80385.51360000044, 80385.51360000044)\n"
          ],
          "name": "stdout"
        }
      ]
    },
    {
      "cell_type": "code",
      "metadata": {
        "id": "-mQBCtRU53M8",
        "colab_type": "code",
        "colab": {}
      },
      "source": [
        ""
      ],
      "execution_count": 0,
      "outputs": []
    }
  ]
}